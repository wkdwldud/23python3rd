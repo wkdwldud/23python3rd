{
  "nbformat": 4,
  "nbformat_minor": 0,
  "metadata": {
    "colab": {
      "provenance": [],
      "authorship_tag": "ABX9TyP5a7UpKGXIv8WEmpJjVpJQ",
      "include_colab_link": true
    },
    "kernelspec": {
      "name": "python3",
      "display_name": "Python 3"
    },
    "language_info": {
      "name": "python"
    }
  },
  "cells": [
    {
      "cell_type": "markdown",
      "metadata": {
        "id": "view-in-github",
        "colab_type": "text"
      },
      "source": [
        "<a href=\"https://colab.research.google.com/github/wkdwldud/23python3rd/blob/main/firstcode.ipynb\" target=\"_parent\"><img src=\"https://colab.research.google.com/assets/colab-badge.svg\" alt=\"Open In Colab\"/></a>"
      ]
    },
    {
      "cell_type": "markdown",
      "source": [
        "1 나의 생에 첫번째 코드"
      ],
      "metadata": {
        "id": "LckPOT3JH8iI"
      }
    },
    {
      "cell_type": "code",
      "execution_count": null,
      "metadata": {
        "colab": {
          "base_uri": "https://localhost:8080/"
        },
        "id": "WYLg5JtOFnCA",
        "outputId": "ef759fa0-d217-4377-9084-d51f51a59c48"
      },
      "outputs": [
        {
          "output_type": "stream",
          "name": "stdout",
          "text": [
            "hello world!\n"
          ]
        }
      ],
      "source": [
        "print(\"hello world!\")\n",
        "print(\"hello world!\")  # \"hello world!\"를 출력하는 print 함수입니다."
      ]
    },
    {
      "cell_type": "markdown",
      "source": [
        "위 코드는 print() 함수를 사용하여 \"hello world!\"를 출력합니다.\n",
        "\n",
        "print() 함수는 괄호 안에 있는 값을 화면에 출력하는 함수입니다. 주어진 코드에서는 \"hello world!\"를 출력하게 됩니다.\n",
        "\n",
        "따라서, 위 코드는 \"hello world!\"를 출력하는 코드입니다. 실행 결과로는 \"hello world!\"가 출력됩니다.\n",
        "\n",
        "\n",
        "\n",
        "\n"
      ],
      "metadata": {
        "id": "Wje77noQcmeN"
      }
    },
    {
      "cell_type": "markdown",
      "source": [
        "2. 두번째 코딩"
      ],
      "metadata": {
        "id": "t-llQc6tKrBX"
      }
    },
    {
      "cell_type": "code",
      "source": [
        "print(5+5, 6-2, 4*5, 6/2 )\n",
        "print(5+5, 6-2, 4*5, 6/2)"
      ],
      "metadata": {
        "colab": {
          "base_uri": "https://localhost:8080/"
        },
        "id": "Zwe5P0DqLDdn",
        "outputId": "d31fd18b-cf2c-4771-8bcf-4668bfe218b3"
      },
      "execution_count": null,
      "outputs": [
        {
          "output_type": "stream",
          "name": "stdout",
          "text": [
            "10 4 20 3.0\n"
          ]
        }
      ]
    },
    {
      "cell_type": "markdown",
      "source": [
        "위 코드는 print() 함수를 사용하여 다양한 수식을 계산하고 결과를 출력합니다.\n",
        "\n",
        "print() 함수는 괄호 안에 있는 값을 화면에 출력하는 함수입니다. 주어진 코드에서는 괄호 안에 4개의 수식이 있습니다.\n",
        "\n",
        "5+5는 5와 5를 더한 결과인 10을 계산합니다.\n",
        "6-2는 6에서 2를 뺀 결과인 4를 계산합니다.\n",
        "4*5는 4와 5를 곱한 결과인 20을 계산합니다.\n",
        "6/2는 6을 2로 나눈 결과인 3을 계산합니다.\n",
        "따라서, 위 코드는 10, 4, 20, 3을 출력하는 코드입니다. 실행 결과로는 각 수식의 계산 결과가 공백으로 구분되어 출력됩니다."
      ],
      "metadata": {
        "id": "XS0Lt5IacyAf"
      }
    },
    {
      "cell_type": "markdown",
      "source": [],
      "metadata": {
        "id": "PbX6BX_13QHN"
      }
    }
  ]
}