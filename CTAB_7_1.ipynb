{
  "nbformat": 4,
  "nbformat_minor": 0,
  "metadata": {
    "colab": {
      "provenance": [],
      "authorship_tag": "ABX9TyMIjpRh5d+003j4a4HYh27q",
      "include_colab_link": true
    },
    "kernelspec": {
      "name": "python3",
      "display_name": "Python 3"
    },
    "language_info": {
      "name": "python"
    }
  },
  "cells": [
    {
      "cell_type": "markdown",
      "metadata": {
        "id": "view-in-github",
        "colab_type": "text"
      },
      "source": [
        "<a href=\"https://colab.research.google.com/github/wkdwldud/23python3rd/blob/main/CTAB_7_1.ipynb\" target=\"_parent\"><img src=\"https://colab.research.google.com/assets/colab-badge.svg\" alt=\"Open In Colab\"/></a>"
      ]
    },
    {
      "cell_type": "markdown",
      "source": [
        "1.일한 시간과 시급을 계산하여 출력하는 코드\n",
        "- 일한시간(hour_worked)\n",
        "-일한 날짜(day_monthly)\n",
        "-시급(pay_rate)\n",
        "-월급(monthly_pay)\n"
      ],
      "metadata": {
        "id": "7duMCurto1Hb"
      }
    },
    {
      "cell_type": "code",
      "source": [
        "hours_worked = int(input(\"일한 시간을 입력하시오.: \"))\n",
        "pay_rate = int(input(\"시급을 입력하시오.(23년 시급 9620): \"))\n",
        "day_worked = int(input(\"일한 날짜를 입력하시오.: \"))\n",
        "day_month = hours_worked * day_worked\n",
        "monthly_pay = hours_worked * pay_rate * day_worked\n",
        "print(f'일한시간은 {hours_worked}시간 이며, 시급은 {pay_rate}원 이고, 월급여는 {monthly_pay}원 입니다.')\n"
      ],
      "metadata": {
        "colab": {
          "base_uri": "https://localhost:8080/"
        },
        "id": "Bb6EL6h7pD_y",
        "outputId": "8d631acf-4173-4442-db1f-373f6cc321d4"
      },
      "execution_count": null,
      "outputs": [
        {
          "output_type": "stream",
          "name": "stdout",
          "text": [
            "일한 시간을 입력하시오.: 10\n",
            "시급을 입력하시오.(23년 시급 9620): 9620\n",
            "일한 날짜를 입력하시오.: 25\n",
            "일한시간은 10시간 이며, 시급은 9620원 이고, 월급여는 2405000원 입니다.\n"
          ]
        }
      ]
    },
    {
      "cell_type": "markdown",
      "source": [
        "2. 환전하는 코드를 작성\n",
        " - 변수 won, usd, exchange\n",
        " - 계산 won * usd\n"
      ],
      "metadata": {
        "id": "Da42uyjtumaa"
      }
    },
    {
      "cell_type": "code",
      "source": [
        "usd = int(input(\"환전할 달러를 입력: \"))\n",
        "won = int(input(\"달러의 환율금액 입력(231031: 1372원)\"))\n",
        "exchange = won * usd\n",
        "print(f'환전하고 싶은 달러는 {usd}달러는 환율{won}으로 계산하면,  {exchange}원입니다.')"
      ],
      "metadata": {
        "colab": {
          "base_uri": "https://localhost:8080/"
        },
        "id": "jmhL9MwcvIBL",
        "outputId": "dac379e8-06b8-4055-c4a7-520b488d505f"
      },
      "execution_count": null,
      "outputs": [
        {
          "output_type": "stream",
          "name": "stdout",
          "text": [
            "환전할 달러를 입력: 500\n",
            "달러의 환율금액 입력(231031: 1372원)1372\n",
            "환전하고 싶은 달러는 500달러는 환율1372으로 계산하면,  686000원입니다.\n"
          ]
        }
      ]
    },
    {
      "cell_type": "markdown",
      "source": [
        "3. 화씨를 섭씨로 섭씨를 화씨로 변경하는 코드\n",
        " - 화씨를 섭씨로 ℉ = ℃ * 1.8 + 32\n",
        " - 섭씨를 화씨로 ℃ = (℉ - 32) / 1.8\n",
        " - 변수 : 화씨 fahrenheit, 섭씨 celsius\n"
      ],
      "metadata": {
        "id": "kNSxY40jyJD8"
      }
    },
    {
      "cell_type": "code",
      "source": [
        "fahrenheit = int(input(\"화씨를 입력하시오.: \"))\n",
        "celsius = (fahrenheit - 32) / 1.8\n",
        "print(celsius)"
      ],
      "metadata": {
        "colab": {
          "base_uri": "https://localhost:8080/"
        },
        "id": "6B5hQ0QGzbpP",
        "outputId": "d606be69-7c04-40a4-a248-b4456d052a0f"
      },
      "execution_count": null,
      "outputs": [
        {
          "output_type": "stream",
          "name": "stdout",
          "text": [
            "화씨를 입력하시오.: 100\n",
            "37.77777777777778\n"
          ]
        }
      ]
    },
    {
      "cell_type": "code",
      "source": [
        "celsius = float(input(\"섭씨를 입력하시오.: \"))\n",
        "fahrenheit = celsius * 1.8 + 32\n",
        "print(fahrenheit)"
      ],
      "metadata": {
        "colab": {
          "base_uri": "https://localhost:8080/"
        },
        "id": "-3LGZoXW0NjN",
        "outputId": "de95d5b9-01b5-4822-b72c-7ad5518024b6"
      },
      "execution_count": null,
      "outputs": [
        {
          "output_type": "stream",
          "name": "stdout",
          "text": [
            "섭씨를 입력하시오.: 37.77777777777778\n",
            "100.0\n"
          ]
        }
      ]
    },
    {
      "cell_type": "markdown",
      "source": [
        "4.사용자로부터 2개의 정수를 받아서 합계를 출력하시오.\n",
        " - 정수 x\n",
        " - 정수y"
      ],
      "metadata": {
        "id": "mW4O3rqIrPvj"
      }
    },
    {
      "cell_type": "code",
      "source": [
        "print(\"정수 2개를 입력하시오.: \")\n",
        "x = int(input(\"x의 값을 입력하시오.: \"))\n",
        "y = int(input(\"y의 값을 입력하시오.: \"))\n",
        "sum = x + y\n",
        "print(sum)\n",
        "print(f'{x} + {y} 의 값은 {sum}이다.')"
      ],
      "metadata": {
        "colab": {
          "base_uri": "https://localhost:8080/"
        },
        "id": "SPCLzNSFrowI",
        "outputId": "bcbb58f8-9405-4660-eda1-746e006b06af"
      },
      "execution_count": null,
      "outputs": [
        {
          "output_type": "stream",
          "name": "stdout",
          "text": [
            "정수 2개를 입력하시오.: \n",
            "x의 값을 입력하시오.: 5\n",
            "y의 값을 입력하시오.: 6\n",
            "11\n",
            "5 + 6 의 값은 11이다.\n"
          ]
        }
      ]
    },
    {
      "cell_type": "markdown",
      "source": [
        "5. 부가세를 계산하시오.\n",
        " - 상품의 가격(price)\n",
        " - 부가세(vat)\n"
      ],
      "metadata": {
        "id": "Ol1cOJ4sszLg"
      }
    },
    {
      "cell_type": "code",
      "source": [
        "print(\"상품의 가격을 입력하시오.: \")\n",
        "price = int(input(\"상품의 가격: \"))\n",
        "vat = price * 0.1\n",
        "print(vat)\n",
        "print(f'상품의 가격은 {price}이며, 부가세는 {vat}이다. ')"
      ],
      "metadata": {
        "colab": {
          "base_uri": "https://localhost:8080/"
        },
        "id": "HgJ0Ka26s-X7",
        "outputId": "a68dcd23-1698-4b56-8bda-d0c3ba0e5300"
      },
      "execution_count": null,
      "outputs": [
        {
          "output_type": "stream",
          "name": "stdout",
          "text": [
            "상품의 가격을 입력하시오.: \n",
            "상품의 가격: 5000\n",
            "500.0\n",
            "상품의 가격은 5000이며, 부가세는 500.0이다. \n"
          ]
        }
      ]
    },
    {
      "cell_type": "markdown",
      "source": [
        "ours_worked = int(input(\"일한 시간을 입력하시오.: \"))\n",
        "pay_rate = int(input(\"시급을 입력하시오.(23년 시급 9620): \"))\n",
        "day_worked = int(input(\"일한 날짜를 입력하시오.: \"))\n",
        "day_month = hours_worked * day_worked\n",
        "monthly_pay = hours_worked * pay_rate * day_worked\n",
        "print(f'일한시간은 {hours_worked}시간 이며, 시급은 {pay_rate}원 이고, 월급여는 {monthly_pay}원 입니다.')\n",
        "\n",
        "장지영의 어시스턴트\n",
        "GPT-3.5\n",
        "주어진 코드에 주석을 추가하여 설명해드리겠습니다.\n",
        "\n",
        "python\n",
        "# 사용자로부터 일한 시간을 입력받아 정수형으로 저장합니다.\n",
        "hours_worked = int(input(\"일한 시간을 입력하시오.: \"))\n",
        "\n",
        "# 사용자로부터 시급을 입력받아 정수형으로 저장합니다.\n",
        "pay_rate = int(input(\"시급을 입력하시오.(23년 시급 9620): \"))\n",
        "\n",
        "# 사용자로부터 일한 날짜를 입력받아 정수형으로 저장합니다.\n",
        "day_worked = int(input(\"일한 날짜를 입력하시오.: \"))\n",
        "\n",
        "# 총 일한 날짜를 계산하여 저장합니다.\n",
        "day_month = hours_worked * day_worked\n",
        "\n",
        "# 월급을 계산하여 저장합니다.\n",
        "monthly_pay = hours_worked * pay_rate * day_worked\n",
        "\n",
        "# 일한 시간, 시급, 월급을 출력합니다.\n",
        "print(f'일한시간은 {hours_worked}시간 이며, 시급은 {pay_rate}원 이고, 월급여는 {monthly_pay}원 입니다.')\n",
        "위 코드를 실행하면 사용자로부터 일한 시간, 시급, 일한 날짜를 입력받아 월급을 계산하여 출력합니다.\n",
        "\n",
        "주석을 통해 코드를 설명하면 다음과 같습니다.\n",
        "\n",
        "hours_worked 변수: 사용자로부터 입력받은 일한 시간을 저장하는 변수입니다.\n",
        "pay_rate 변수: 사용자로부터 입력받은 시급을 저장하는 변수입니다.\n",
        "day_worked 변수: 사용자로부터 입력받은 일한 날짜를 저장하는 변수입니다.\n",
        "day_month 변수: 일한 시간과 일한 날짜를 곱하여 총 일한 날짜를 저장하는 변수입니다.\n",
        "monthly_pay 변수: 일한 시간, 시급, 일한 날짜를 곱하여 월급을 계산하여 저장하는 변수입니다.\n",
        "print(f'일한시간은 {hours_worked}시간 이며, 시급은 {pay_rate}원 이고, 월급여는 {monthly_pay}원 입니다.'): 입력받은 값과 계산된 월급을 포맷팅하여 출력합니다.\n",
        "실행 시 사용자로부터 일한 시간, 시급, 일한 날짜를 입력받고, 이를 바탕으로 월급을 계산하여 출력합니다. 예를 들어, 사용자가 일한 시간을 160시간, 시급을 10000원, 일한 날짜를 20일로 입력하면 다음과 같은 결과가 출력됩니다.\n",
        "\n",
        "일한시간은 160시간 이며, 시급은 10000원 이고, 월급여는 32000000원 입니다.\n",
        "위와 같이 입력받은 값과 계산된 월급이 출력됩니다. 입력된 값에 따라 월급이 다르게 계산되며, 포맷팅을 통해 결과를 가독성 있게 출력합니다.\n",
        "\n",
        "\n",
        "\n",
        "\n",
        "findsemusa.com\n",
        "m.youtube.com\n",
        "nodong.kr\n",
        "\n",
        "더보기\n",
        "usd = int(input(\"환전할 달러를 입력: \"))\n",
        "won = int(input(\"달러의 환율금액 입력(231031: 1372원)\"))\n",
        "exchange = won * usd\n",
        "print(f'환전하고 싶은 달러는 {usd}달러는 환율{won}으로 계산하면,  {exchange}원입니다.')\n",
        "\n",
        "장지영의 어시스턴트\n",
        "GPT-3.5\n",
        "\n",
        "\n",
        "\n",
        "usd = int(input(\"환전할 달러를 입력: \"))\n",
        "won = int(input(\"달러의 환율금액 입력(231031: 1372원)\"))\n",
        "exchange = won * usd\n",
        "print(f'환전하고 싶은 달러는 {usd}달러는 환율{won}으로 계산하면,  {exchange}원입니다.')\n",
        "\n",
        "장지영의 어시스턴트\n",
        "GPT-3.5\n",
        "주어진 코드에 주석을 추가하여 설명해드리겠습니다.\n",
        "\n",
        "python\n",
        "# 사용자로부터 환전할 달러를 입력받아 정수형으로 저장합니다.\n",
        "usd = int(input(\"환전할 달러를 입력: \"))\n",
        "\n",
        "# 사용자로부터 달러의 환율금액을 입력받아 정수형으로 저장합니다.\n",
        "won = int(input(\"달러의 환율금액 입력(231031: 1372원)\"))\n",
        "\n",
        "# 환전할 금액을 계산하여 저장합니다.\n",
        "exchange = won * usd\n",
        "\n",
        "# 환전할 달러와 환율을 출력합니다.\n",
        "print(f'환전하고 싶은 달러는 {usd}달러는 환율{won}으로 계산하면,  {exchange}원입니다.')\n",
        "위 코드를 실행하면 사용자로부터 환전할 달러와 달러의 환율금액을 입력받아 원화로 환전된 금액을 출력합니다.\n",
        "\n",
        "주석을 통해 코드를 설명하면 다음과 같습니다.\n",
        "\n",
        "usd 변수: 사용자로부터 입력받은 환전할 달러를 저장하는 변수입니다.\n",
        "won 변수: 사용자로부터 입력받은 달러의 환율금액을 저장하는 변수입니다.\n",
        "exchange 변수: 환전할 금액을 계산하여 저장하는 변수로, 달러의 환율금액(won)과 환전할 달러(usd)를 곱하여 계산됩니다.\n",
        "print(f'환전하고 싶은 달러는 {usd}달러는 환율{won}으로 계산하면,  {exchange}원입니다.'): 입력받은 달러와 환율을 포맷팅하여 출력합니다.\n",
        "실행 시 사용자로부터 환전할 달러와 달러의 환율금액을 입력받고, 이를 바탕으로 원화로 환전된 금액을 계산하여 출력합니다. 예를 들어, 사용자가 환전할 달러를 100달러, 달러의 환율금액을 1372원으로 입력하면 다음과 같은 결과가 출력됩니다.\n",
        "\n",
        "환전하고 싶은 달러는 100달러는 환율1372으로 계산하면,  137200원입니다.\n",
        "위와 같이 입력받은 값과 계산된 환전 금액이 출력됩니다. 입력된 값에 따라 환전 금액이 다르게 계산되며, 포맷팅을 통해 결과를 가독성 있게 출력합니다.\n",
        "\n",
        "\n",
        "\n",
        "\n",
        "wise.com\n",
        "spib.wooribank.com\n",
        "marriott.com\n",
        "\n",
        "더보기\n",
        "fahrenheit = int(input(\"화씨를 입력하시오.: \"))\n",
        "celsius = (fahrenheit - 32) / 1.8\n",
        "print(celsius)\n",
        "\n",
        "장지영의 어시스턴트\n",
        "GPT-3.5\n",
        "주어진 코드에 주석을 추가하여 설명해드리겠습니다.\n",
        "\n",
        "python\n",
        "# 사용자로부터 화씨를 입력받아 정수형으로 저장합니다.\n",
        "fahrenheit = int(input(\"화씨를 입력하시오.: \"))\n",
        "\n",
        "# 입력받은 화씨를 섭씨로 변환하여 계산하고 저장합니다.\n",
        "celsius = (fahrenheit - 32) / 1.8\n",
        "\n",
        "# 변환된 섭씨를 출력합니다.\n",
        "print(celsius)\n",
        "위 코드를 실행하면 사용자로부터 입력받은 화씨를 섭씨로 변환하여 출력합니다.\n",
        "\n",
        "주석을 통해 코드를 설명하면 다음과 같습니다.\n",
        "\n",
        "fahrenheit 변수: 사용자로부터 입력받은 화씨를 저장하는 변수입니다.\n",
        "celsius 변수: 입력받은 화씨를 섭씨로 변환하여 계산하고 저장하는 변수로, (화씨 - 32) / 1.8 공식을 사용합니다.\n",
        "print(celsius): 변환된 섭씨를 출력합니다.\n",
        "실행 시 사용자로부터 화씨를 입력받고, 이를 섭씨로 변환하여 출력합니다. 예를 들어, 사용자가 화씨를 68로 입력하면 다음과 같은 결과가 출력됩니다.\n",
        "\n",
        "20.0\n",
        "위와 같이 입력받은 화씨가 섭씨로 변환되어 출력됩니다. 입력된 화씨에 따라 섭씨가 다르게 계산되며, 계산된 섭씨를 소수점까지 출력합니다.\n",
        "\n",
        "\n",
        "\n",
        "\n",
        "jiwoncho20213135python.tistory.com\n",
        "dsob2021swu.tistory.com\n",
        "kmatter.tistory.com\n",
        "\n",
        "더보기\n",
        "celsius = float(input(\"섭씨를 입력하시오.: \"))\n",
        "fahrenheit = celsius * 1.8 + 32\n",
        "print(fahrenheit)\n",
        "\n",
        "장지영의 어시스턴트\n",
        "GPT-3.5\n",
        "주어진 코드에 주석을 추가하여 설명해드리겠습니다.\n",
        "\n",
        "python\n",
        "# 사용자로부터 섭씨를 입력받아 실수형으로 저장합니다.\n",
        "celsius = float(input(\"섭씨를 입력하시오.: \"))\n",
        "\n",
        "# 입력받은 섭씨를 화씨로 변환하여 계산하고 저장합니다.\n",
        "fahrenheit = celsius * 1.8 + 32\n",
        "\n",
        "# 변환된 화씨를 출력합니다.\n",
        "print(fahrenheit)\n",
        "위 코드를 실행하면 사용자로부터 입력받은 섭씨를 화씨로 변환하여 출력합니다.\n",
        "\n",
        "주석을 통해 코드를 설명하면 다음과 같습니다.\n",
        "\n",
        "celsius 변수: 사용자로부터 입력받은 섭씨를 저장하는 변수입니다.\n",
        "fahrenheit 변수: 입력받은 섭씨를 화씨로 변환하여 계산하고 저장하는 변수로, 섭씨 * 1.8 + 32 공식을 사용합니다.\n",
        "print(fahrenheit): 변환된 화씨를 출력합니다.\n",
        "실행 시 사용자로부터 섭씨를 입력받고, 이를 화씨로 변환하여 출력합니다. 예를 들어, 사용자가 섭씨를 20으로 입력하면 다음과 같은 결과가 출력됩니다.\n",
        "\n",
        "68.0\n",
        "위와 같이 입력받은 섭씨가 화씨로 변환되어 출력됩니다. 입력된 섭씨에 따라 화씨가 다르게 계산되며, 계산된 화씨를 소수점까지 출력합니다.\n",
        "\n",
        "\n",
        "\n",
        "\n",
        "ddoddofather.tistory.com\n",
        "smeffect.tistory.com\n",
        "alegruz.imweb.me\n",
        "\n",
        "더보기\n",
        "print(\"정수 2개를 입력하시오.: \")\n",
        "x = int(input(\"x의 값을 입력하시오.: \"))\n",
        "y = int(input(\"y의 값을 입력하시오.: \"))\n",
        "sum = x + y\n",
        "print(sum)\n",
        "print(f'{x} + {y} 의 값은 {sum}이다.')\n",
        "\n",
        "장지영의 어시스턴트\n",
        "GPT-3.5\n",
        "주어진 코드에 주석을 추가하여 설명해드리겠습니다.\n",
        "\n",
        "python\n",
        "print(\"정수 2개를 입력하시오.: \")\n",
        "\n",
        "# 사용자로부터 x의 값을 입력받아 정수형으로 저장합니다.\n",
        "x = int(input(\"x의 값을 입력하시오.: \"))\n",
        "\n",
        "# 사용자로부터 y의 값을 입력받아 정수형으로 저장합니다.\n",
        "y = int(input(\"y의 값을 입력하시오.: \"))\n",
        "\n",
        "# x와 y의 합을 계산하여 저장합니다.\n",
        "sum = x + y\n",
        "\n",
        "# 합을 출력합니다.\n",
        "print(sum)\n",
        "\n",
        "# x와 y의 값을 포맷팅하여 합을 출력합니다.\n",
        "print(f'{x} + {y} 의 값은 {sum}이다.')\n",
        "위 코드를 실행하면 사용자로부터 입력받은 두 정수의 합을 계산하여 출력합니다.\n",
        "\n",
        "주석을 통해 코드를 설명하면 다음과 같습니다.\n",
        "\n",
        "print(\"정수 2개를 입력하시오.: \"): 사용자에게 정수 2개를 입력받을 것을 안내하는 메시지를 출력합니다.\n",
        "x 변수: 사용자로부터 입력받은 x의 값을 저장하는 변수입니다.\n",
        "y 변수: 사용자로부터 입력받은 y의 값을 저장하는 변수입니다.\n",
        "sum 변수: x와 y의 합을 계산하여 저장하는 변수입니다.\n",
        "print(sum): 계산된 합을 출력합니다.\n",
        "print(f'{x} + {y} 의 값은 {sum}이다.'): x와 y의 값을 포맷팅하여 합을 출력합니다.\n",
        "실행 시 사용자로부터 x와 y의 값을 입력받고, 이를 바탕으로 두 정수의 합을 계산하여 출력합니다. 예를 들어, 사용자가 x의 값을 10, y의 값을 20으로 입력하면 다음과 같은 결과가 출력됩니다.\n",
        "\n",
        "정수 2개를 입력하시오.:\n",
        "x의 값을 입력하시오.: 10\n",
        "y의 값을 입력하시오.: 20\n",
        "30\n",
        "10 + 20 의 값은 30이다.\n",
        "위와 같이 입력받은 값과 계산된 합이 출력됩니다. 입력된 값에 따라 합이 다르게 계산되며, 포맷팅을 통해 결과를 가독성 있게 출력합니다.\n",
        "\n",
        "\n",
        "\n",
        "\n",
        "m.blog.naver.com\n",
        "2srin.tistory.com\n",
        "plug-in-baby.tistory.com\n",
        "\n",
        "더보기\n",
        "rint(\"상품의 가격을 입력하시오.: \")\n",
        "price = int(input(\"상품의 가격: \"))\n",
        "vat = price * 0.1\n",
        "print(vat)\n",
        "print(f'상품의 가격은 {price}이며, 부가세는 {vat}이다. ')\n",
        "\n",
        "장지영의 어시스턴트\n",
        "GPT-3.5\n",
        "주어진 코드에 주석을 추가하여 설명해드리겠습니다.\n",
        "\n",
        "python\n",
        "print(\"상품의 가격을 입력하시오.: \")\n",
        "\n",
        "# 사용자로부터 상품의 가격을 입력받아 정수형으로 저장합니다.\n",
        "price = int(input(\"상품의 가격: \"))\n",
        "\n",
        "# 가격에 대한 부가세를 계산하여 저장합니다.\n",
        "vat = price * 0.1\n",
        "\n",
        "# 부가세를 출력합니다.\n",
        "print(vat)\n",
        "\n",
        "# 상품의 가격과 부가세를 포맷팅하여 출력합니다.\n",
        "print(f'상품의 가격은 {price}이며, 부가세는 {vat}이다. ')\n",
        "위 코드를 실행하면 사용자로부터 입력받은 상품의 가격에 대한 부가세를 계산하여 출력합니다.\n",
        "\n",
        "주석을 통해 코드를 설명하면 다음과 같습니다.\n",
        "\n",
        "print(\"상품의 가격을 입력하시오.: \"): 사용자에게 상품의 가격을 입력받을 것을 안내하는 메시지를 출력합니다.\n",
        "price 변수: 사용자로부터 입력받은 상품의 가격을 저장하는 변수입니다.\n",
        "vat 변수: 가격에 대한 부가세를 계산하여 저장하는 변수로, 가격(price)에 0.1을 곱하여 계산됩니다.\n",
        "print(vat): 계산된 부가세를 출력합니다.\n",
        "print(f'상품의 가격은 {price}이며, 부가세는 {vat}이다. '): 상품의 가격과 부가세를 포맷팅하여 출력합니다.\n",
        "실행 시 사용자로부터 상품의 가격을 입력받고, 이를 바탕으로 부가세를 계산하여 출력합니다. 예를 들어, 사용자가 상품의 가격을 10000으로 입력하면 다음과 같은 결과가 출력됩니다.\n",
        "\n",
        "상품의 가격을 입력하시오.:\n",
        "상품의 가격: 10000\n",
        "1000.0\n",
        "상품의 가격은 10000이며, 부가세는 1000.0이다.\n",
        "위와 같이 입력받은 가격에 대한 부가세가 계산되어 출력됩니다. 입력된 가격에 따라 부가세가 다르게 계산되며, 포맷팅을 통해 결과를 가독성 있게 출력합니다.\n",
        "\n",
        "\n",
        "\n",
        "\n"
      ],
      "metadata": {
        "id": "rUtCiHF89bca"
      }
    }
  ]
}