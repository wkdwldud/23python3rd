{
  "nbformat": 4,
  "nbformat_minor": 0,
  "metadata": {
    "colab": {
      "provenance": [],
      "authorship_tag": "ABX9TyNKd1fzYc61opbmnJxP+wQ1",
      "include_colab_link": true
    },
    "kernelspec": {
      "name": "python3",
      "display_name": "Python 3"
    },
    "language_info": {
      "name": "python"
    }
  },
  "cells": [
    {
      "cell_type": "markdown",
      "metadata": {
        "id": "view-in-github",
        "colab_type": "text"
      },
      "source": [
        "<a href=\"https://colab.research.google.com/github/wkdwldud/23python3rd/blob/main/CTAB_7_1.ipynb\" target=\"_parent\"><img src=\"https://colab.research.google.com/assets/colab-badge.svg\" alt=\"Open In Colab\"/></a>"
      ]
    },
    {
      "cell_type": "markdown",
      "source": [
        "1.일한 시간과 시급을 계산하여 출력하는 코드\n",
        "- 일한시간(hour_worked)\n",
        "-일한 날짜(day_monthly)\n",
        "-시급(pay_rate)\n",
        "-월급(monthly_pay)\n"
      ],
      "metadata": {
        "id": "7duMCurto1Hb"
      }
    },
    {
      "cell_type": "code",
      "source": [
        "hours_worked = int(input(\"일한 시간을 입력하시오.: \"))\n",
        "pay_rate = int(input(\"시급을 입력하시오.(23년 시급 9620): \"))\n",
        "day_worked = int(input(\"일한 날짜를 입력하시오.: \"))\n",
        "day_month = hours_worked * day_worked\n",
        "monthly_pay = hours_worked * pay_rate * day_worked\n",
        "print(f'일한시간은 {hours_worked}시간 이며, 시급은 {pay_rate}원 이고, 월급여는 {monthly_pay}원 입니다.')\n",
        "hours_worked = int(input(\"일한 시간을 입력하시오.: \"))  # 사용자로부터 \"일한 시간을 입력하시오.: \" 메시지를 출력하고, 입력받은 값을 정수로 변환하여 hours_worked 변수에 저장합니다.\n",
        "pay_rate = int(input(\"시급을 입력하시오.(23년 시급 9620): \"))  # 사용자로부터 \"시급을 입력하시오.(23년 시급 9620): \" 메시지를 출력하고, 입력받은 값을 정수로 변환하여 pay_rate 변수에 저장합니다.\n",
        "day_worked = int(input(\"일한 날짜를 입력하시오.: \"))  # 사용자로부터 \"일한 날짜를 입력하시오.: \" 메시지를 출력하고, 입력받은 값을 정수로 변환하여 day_worked 변수에 저장합니다.\n",
        "\n",
        "day_month = hours_worked * day_worked  # 일한 시간과 일한 날짜를 곱하여 day_month 변수에 저장합니다.\n",
        "monthly_pay = hours_worked * pay_rate * day_worked  # 일한 시간, 시급, 일한 날짜를 곱하여 월급여를 계산하여 monthly_pay 변수에 저장합니다.\n",
        "\n",
        "print(f'일한시간은 {hours_worked}시간 이며, 시급은 {pay_rate}원 이고, 월급여는 {monthly_pay}원 입니다.')  # f-string을 사용하여 일한 시간, 시급, 월급여를 출력합니다."
      ],
      "metadata": {
        "colab": {
          "base_uri": "https://localhost:8080/"
        },
        "id": "Bb6EL6h7pD_y",
        "outputId": "8d631acf-4173-4442-db1f-373f6cc321d4"
      },
      "execution_count": null,
      "outputs": [
        {
          "output_type": "stream",
          "name": "stdout",
          "text": [
            "일한 시간을 입력하시오.: 10\n",
            "시급을 입력하시오.(23년 시급 9620): 9620\n",
            "일한 날짜를 입력하시오.: 25\n",
            "일한시간은 10시간 이며, 시급은 9620원 이고, 월급여는 2405000원 입니다.\n"
          ]
        }
      ]
    },
    {
      "cell_type": "markdown",
      "source": [
        "위 코드는 사용자로부터 일한 시간, 시급, 일한 날짜를 입력받아서 월급여를 계산하고 출력하는 코드입니다.\n",
        "\n",
        "먼저 hours_worked, pay_rate, day_worked는 각각 input() 함수를 사용하여 사용자로부터 값을 입력받습니다. int() 함수를 사용하여 입력받은 값을 정수로 변환한 후 각각의 변수에 저장합니다.\n",
        "\n",
        "다음으로 day_month 변수에는 hours_worked와 day_worked를 곱하여 일한 시간과 일한 날짜를 곱한 값을 저장합니다.\n",
        "\n",
        "monthly_pay 변수에는 hours_worked, pay_rate, day_worked를 곱하여 월급여를 계산한 값을 저장합니다.\n",
        "\n",
        "마지막으로 print() 함수를 사용하여 f-string을 이용해 일한 시간, 시급, 월급여를 출력합니다.\n",
        "\n",
        "따라서, 위 코드는 사용자로부터 입력받은 일한 시간, 시급, 일한 날짜를 바탕으로 월급여를 계산하고 출력하는 코드입니다. 출력 결과로는 일한 시간, 시급, 월급여가 출력됩니다."
      ],
      "metadata": {
        "id": "pRcqxRqJanAi"
      }
    },
    {
      "cell_type": "markdown",
      "source": [
        "2. 환전하는 코드를 작성\n",
        " - 변수 won, usd, exchange\n",
        " - 계산 won * usd\n"
      ],
      "metadata": {
        "id": "Da42uyjtumaa"
      }
    },
    {
      "cell_type": "code",
      "source": [
        "usd = int(input(\"환전할 달러를 입력: \"))\n",
        "won = int(input(\"달러의 환율금액 입력(231031: 1372원)\"))\n",
        "exchange = won * usd\n",
        "print(f'환전하고 싶은 달러는 {usd}달러는 환율{won}으로 계산하면,  {exchange}원입니다.')\n",
        "usd = int(input(\"환전할 달러를 입력: \"))  # 사용자로부터 \"환전할 달러를 입력: \" 메시지를 출력하고, 입력받은 값을 정수로 변환하여 usd 변수에 저장합니다.\n",
        "won = int(input(\"달러의 환율금액 입력(231031: 1372원): \"))  # 사용자로부터 \"달러의 환율금액 입력(231031: 1372원): \" 메시지를 출력하고, 입력받은 값을 정수로 변환하여 won 변수에 저장합니다.\n",
        "\n",
        "exchange = won * usd  # 달러의 환율 금액과 환전할 달러를 곱하여 exchange 변수에 저장합니다.\n",
        "\n",
        "print(f'환전하고 싶은 달러는 {usd}달러는 환율{won}으로 계산하면,  {exchange}원입니다.')  # f-string을 사용하여 환전할 달러와 달러의 환율 금액, 환전한 원화 금액을 출력합니다."
      ],
      "metadata": {
        "colab": {
          "base_uri": "https://localhost:8080/"
        },
        "id": "jmhL9MwcvIBL",
        "outputId": "dac379e8-06b8-4055-c4a7-520b488d505f"
      },
      "execution_count": null,
      "outputs": [
        {
          "output_type": "stream",
          "name": "stdout",
          "text": [
            "환전할 달러를 입력: 500\n",
            "달러의 환율금액 입력(231031: 1372원)1372\n",
            "환전하고 싶은 달러는 500달러는 환율1372으로 계산하면,  686000원입니다.\n"
          ]
        }
      ]
    },
    {
      "cell_type": "markdown",
      "source": [
        "위 코드는 사용자로부터 환전할 달러와 달러의 환율 금액을 입력받아서 원화로 환전한 금액을 계산하고 출력하는 코드입니다.\n",
        "\n",
        "먼저 usd와 won 변수는 각각 input() 함수를 사용하여 사용자로부터 값을 입력받습니다. int() 함수를 사용하여 입력받은 값을 정수로 변환한 후 각각의 변수에 저장합니다.\n",
        "\n",
        "다음으로 exchange 변수에는 won과 usd를 곱하여 환전할 달러를 원화로 환전한 금액을 계산하여 저장합니다.\n",
        "\n",
        "마지막으로 print() 함수를 사용하여 f-string을 이용해 환전할 달러, 달러의 환율 금액, 환전한 원화 금액을 출력합니다.\n",
        "\n",
        "따라서, 위 코드는 사용자로부터 입력받은 환전할 달러와 달러의 환율 금액을 바탕으로 원화로 환전한 금액을 계산하고 출력하는 코드입니다. 출력 결과로는 환전할 달러, 달러의 환율 금액, 환전한 원화 금액이 출력됩니다."
      ],
      "metadata": {
        "id": "vjPb_uNua_AU"
      }
    },
    {
      "cell_type": "markdown",
      "source": [
        "3. 화씨를 섭씨로 섭씨를 화씨로 변경하는 코드\n",
        " - 화씨를 섭씨로 ℉ = ℃ * 1.8 + 32\n",
        " - 섭씨를 화씨로 ℃ = (℉ - 32) / 1.8\n",
        " - 변수 : 화씨 fahrenheit, 섭씨 celsius\n"
      ],
      "metadata": {
        "id": "kNSxY40jyJD8"
      }
    },
    {
      "cell_type": "code",
      "source": [
        "fahrenheit = int(input(\"화씨를 입력하시오.: \"))\n",
        "celsius = (fahrenheit - 32) / 1.8\n",
        "print(celsius)\n",
        "fahrenheit = int(input(\"화씨를 입력하시오.: \"))  # 사용자로부터 \"화씨를 입력하시오.: \" 메시지를 출력하고, 입력받은 값을 정수로 변환하여 fahrenheit 변수에 저장합니다.\n",
        "\n",
        "celsius = (fahrenheit - 32) / 1.8  # 주어진 화씨를 섭씨로 변환하는 공식을 사용하여 화씨를 섭씨로 변환한 후, celsius 변수에 저장합니다.\n",
        "\n",
        "print(celsius)  # 변환한 섭씨 온도를 출력합니다."
      ],
      "metadata": {
        "colab": {
          "base_uri": "https://localhost:8080/"
        },
        "id": "6B5hQ0QGzbpP",
        "outputId": "d606be69-7c04-40a4-a248-b4456d052a0f"
      },
      "execution_count": null,
      "outputs": [
        {
          "output_type": "stream",
          "name": "stdout",
          "text": [
            "화씨를 입력하시오.: 100\n",
            "37.77777777777778\n"
          ]
        }
      ]
    },
    {
      "cell_type": "markdown",
      "source": [
        "위 코드는 사용자로부터 입력받은 화씨 온도를 섭씨로 변환하여 출력하는 코드입니다.\n",
        "\n",
        "먼저 fahrenheit 변수는 input() 함수를 사용하여 사용자로부터 값을 입력받습니다. int() 함수를 사용하여 입력받은 값을 정수로 변환한 후 fahrenheit 변수에 저장합니다.\n",
        "\n",
        "다음으로 celsius 변수에는 (fahrenheit - 32) / 1.8와 같이 주어진 화씨를 섭씨로 변환하는 공식을 사용하여 변환한 값을 저장합니다.\n",
        "\n",
        "마지막으로 print() 함수를 사용하여 celsius 변수의 값을 출력합니다.\n",
        "\n",
        "따라서, 위 코드는 사용자로부터 입력받은 화씨 온도를 섭씨로 변환한 후 출력하는 코드입니다. 출력 결과로는 변환된 섭씨 온도가 출력됩니다.\n",
        "\n",
        "\n",
        "\n",
        "\n"
      ],
      "metadata": {
        "id": "Xv5MKjdHbeq5"
      }
    },
    {
      "cell_type": "code",
      "source": [
        "celsius = float(input(\"섭씨를 입력하시오.: \"))\n",
        "fahrenheit = celsius * 1.8 + 32\n",
        "print(fahrenheit)\n",
        "celsius = float(input(\"섭씨를 입력하시오.: \"))  # 사용자로부터 \"섭씨를 입력하시오.: \" 메시지를 출력하고, 입력받은 값을 실수로 변환하여 celsius 변수에 저장합니다.\n",
        "\n",
        "fahrenheit = celsius * 1.8 + 32  # 주어진 섭씨를 화씨로 변환하는 공식을 사용하여 섭씨를 화씨로 변환한 후, fahrenheit 변수에 저장합니다.\n",
        "\n",
        "print(fahrenheit)  # 변환한 화씨 온도를 출력합니다."
      ],
      "metadata": {
        "colab": {
          "base_uri": "https://localhost:8080/"
        },
        "id": "-3LGZoXW0NjN",
        "outputId": "de95d5b9-01b5-4822-b72c-7ad5518024b6"
      },
      "execution_count": null,
      "outputs": [
        {
          "output_type": "stream",
          "name": "stdout",
          "text": [
            "섭씨를 입력하시오.: 37.77777777777778\n",
            "100.0\n"
          ]
        }
      ]
    },
    {
      "cell_type": "markdown",
      "source": [
        "위 코드는 사용자로부터 입력받은 섭씨 온도를 화씨로 변환하여 출력하는 코드입니다.\n",
        "\n",
        "먼저 celsius 변수는 input() 함수를 사용하여 사용자로부터 값을 입력받습니다. float() 함수를 사용하여 입력받은 값을 실수로 변환한 후 celsius 변수에 저장합니다.\n",
        "\n",
        "다음으로 fahrenheit 변수에는 celsius * 1.8 + 32와 같이 주어진 섭씨를 화씨로 변환하는 공식을 사용하여 변환한 값을 저장합니다.\n",
        "\n",
        "마지막으로 print() 함수를 사용하여 fahrenheit 변수의 값을 출력합니다.\n",
        "\n",
        "따라서, 위 코드는 사용자로부터 입력받은 섭씨 온도를 화씨로 변환한 후 출력하는 코드입니다. 출력 결과로는 변환된 화씨 온도가 출력됩니다.\n",
        "\n",
        "\n",
        "\n",
        "\n"
      ],
      "metadata": {
        "id": "tEwdVGtFboG6"
      }
    },
    {
      "cell_type": "markdown",
      "source": [
        "4.사용자로부터 2개의 정수를 받아서 합계를 출력하시오.\n",
        " - 정수 x\n",
        " - 정수y"
      ],
      "metadata": {
        "id": "mW4O3rqIrPvj"
      }
    },
    {
      "cell_type": "code",
      "source": [
        "print(\"정수 2개를 입력하시오.: \")\n",
        "x = int(input(\"x의 값을 입력하시오.: \"))\n",
        "y = int(input(\"y의 값을 입력하시오.: \"))\n",
        "sum = x + y\n",
        "print(sum)\n",
        "print(f'{x} + {y} 의 값은 {sum}이다.')\n",
        "print(\"정수 2개를 입력하시오.: \")  # \"정수 2개를 입력하시오.: \" 메시지를 출력합니다.\n",
        "\n",
        "x = int(input(\"x의 값을 입력하시오.: \"))  # 사용자로부터 \"x의 값을 입력하시오.: \" 메시지를 출력하고, 입력받은 값을 정수로 변환하여 x 변수에 저장합니다.\n",
        "\n",
        "y = int(input(\"y의 값을 입력하시오.: \"))  # 사용자로부터 \"y의 값을 입력하시오.: \" 메시지를 출력하고, 입력받은 값을 정수로 변환하여 y 변수에 저장합니다.\n",
        "\n",
        "sum = x + y  # x와 y의 값을 더하여 sum 변수에 저장합니다.\n",
        "\n",
        "print(sum)  # 합을 출력합니다.\n",
        "\n",
        "print(f'{x} + {y} 의 값은 {sum}이다.')  # f-string을 사용하여 x, y, sum 변수의 값을 출력합니다."
      ],
      "metadata": {
        "colab": {
          "base_uri": "https://localhost:8080/"
        },
        "id": "SPCLzNSFrowI",
        "outputId": "bcbb58f8-9405-4660-eda1-746e006b06af"
      },
      "execution_count": null,
      "outputs": [
        {
          "output_type": "stream",
          "name": "stdout",
          "text": [
            "정수 2개를 입력하시오.: \n",
            "x의 값을 입력하시오.: 5\n",
            "y의 값을 입력하시오.: 6\n",
            "11\n",
            "5 + 6 의 값은 11이다.\n"
          ]
        }
      ]
    },
    {
      "cell_type": "markdown",
      "source": [
        "위 코드는 사용자로부터 입력받은 두 개의 정수를 더한 후 합을 출력하는 코드입니다.\n",
        "\n",
        "먼저 \"정수 2개를 입력하시오.: \" 메시지를 출력합니다.\n",
        "\n",
        "다음으로 x 변수에는 input() 함수를 사용하여 사용자로부터 \"x의 값을 입력하시오.: \" 메시지를 출력하고, 입력받은 값을 정수로 변환하여 저장합니다.\n",
        "\n",
        "y 변수에는 input() 함수를 사용하여 사용자로부터 \"y의 값을 입력하시오.: \" 메시지를 출력하고, 입력받은 값을 정수로 변환하여 저장합니다.\n",
        "\n",
        "그 후 sum 변수에는 x + y와 같이 x와 y의 값을 더한 후 저장합니다.\n",
        "\n",
        "print() 함수를 사용하여 sum 변수의 값을 출력합니다.\n",
        "\n",
        "마지막으로 f-string을 사용하여 \"{x} + {y} 의 값은 {sum}이다.\"와 같이 x, y, sum 변수의 값을 출력합니다.\n",
        "\n",
        "따라서, 위 코드는 사용자로부터 입력받은 두 개의 정수를 더한 후 합을 출력하고, 더한 값에 대한 수식을 출력하는 코드입니다. 출력 결과로는 합과 수식이 출력됩니다."
      ],
      "metadata": {
        "id": "XDi7cqaBb0cB"
      }
    },
    {
      "cell_type": "markdown",
      "source": [
        "5. 부가세를 계산하시오.\n",
        " - 상품의 가격(price)\n",
        " - 부가세(vat)\n"
      ],
      "metadata": {
        "id": "Ol1cOJ4sszLg"
      }
    },
    {
      "cell_type": "code",
      "source": [
        "print(\"상품의 가격을 입력하시오.: \")\n",
        "price = int(input(\"상품의 가격: \"))\n",
        "vat = price * 0.1\n",
        "print(vat)\n",
        "print(f'상품의 가격은 {price}이며, 부가세는 {vat}이다. ')\n",
        "print(\"상품의 가격을 입력하시오.: \")  # \"상품의 가격을 입력하시오.: \" 메시지를 출력합니다.\n",
        "\n",
        "price = int(input(\"상품의 가격: \"))  # 사용자로부터 \"상품의 가격: \" 메시지를 출력하고, 입력받은 값을 정수로 변환하여 price 변수에 저장합니다.\n",
        "\n",
        "vat = price * 0.1  # 주어진 가격에 0.1을 곱하여 부가세를 계산한 후, vat 변수에 저장합니다.\n",
        "\n",
        "print(vat)  # 계산된 부가세를 출력합니다.\n",
        "\n",
        "print(f'상품의 가격은 {price}이며, 부가세는 {vat}이다. ')  # f-string을 사용하여 상품의 가격과 부가세를 출력합니다."
      ],
      "metadata": {
        "colab": {
          "base_uri": "https://localhost:8080/"
        },
        "id": "HgJ0Ka26s-X7",
        "outputId": "a68dcd23-1698-4b56-8bda-d0c3ba0e5300"
      },
      "execution_count": null,
      "outputs": [
        {
          "output_type": "stream",
          "name": "stdout",
          "text": [
            "상품의 가격을 입력하시오.: \n",
            "상품의 가격: 5000\n",
            "500.0\n",
            "상품의 가격은 5000이며, 부가세는 500.0이다. \n"
          ]
        }
      ]
    },
    {
      "cell_type": "markdown",
      "source": [
        "위 코드는 사용자로부터 입력받은 상품의 가격을 이용하여 부가세를 계산하고 출력하는 코드입니다.\n",
        "\n",
        "먼저 \"상품의 가격을 입력하시오.: \" 메시지를 출력합니다.\n",
        "\n",
        "다음으로 price 변수에는 input() 함수를 사용하여 사용자로부터 \"상품의 가격: \" 메시지를 출력하고, 입력받은 값을 정수로 변환하여 저장합니다.\n",
        "\n",
        "그 후 vat 변수에는 price * 0.1와 같이 주어진 가격에 0.1을 곱하여 부가세를 계산한 후 저장합니다.\n",
        "\n",
        "print() 함수를 사용하여 vat 변수의 값을 출력합니다.\n",
        "\n",
        "마지막으로 f-string을 사용하여 \"상품의 가격은 {price}이며, 부가세는 {vat}이다.\"와 같이 상품의 가격과 부가세를 출력합니다.\n",
        "\n",
        "따라서, 위 코드는 사용자로부터 입력받은 상품의 가격을 이용하여 부가세를 계산하고 출력하는 코드입니다. 출력 결과로는 계산된 부가세와 상품의 가격과 부가세를 포함한 문장이 출력됩니다."
      ],
      "metadata": {
        "id": "qp-qWdWhcDXk"
      }
    }
  ]
}