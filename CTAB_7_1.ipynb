{
  "nbformat": 4,
  "nbformat_minor": 0,
  "metadata": {
    "colab": {
      "provenance": [],
      "authorship_tag": "ABX9TyNxNdeDBT1lZmj+/LBf3aEf",
      "include_colab_link": true
    },
    "kernelspec": {
      "name": "python3",
      "display_name": "Python 3"
    },
    "language_info": {
      "name": "python"
    }
  },
  "cells": [
    {
      "cell_type": "markdown",
      "metadata": {
        "id": "view-in-github",
        "colab_type": "text"
      },
      "source": [
        "<a href=\"https://colab.research.google.com/github/wkdwldud/23python3rd/blob/main/CTAB_7_1.ipynb\" target=\"_parent\"><img src=\"https://colab.research.google.com/assets/colab-badge.svg\" alt=\"Open In Colab\"/></a>"
      ]
    },
    {
      "cell_type": "markdown",
      "source": [
        "1.일한 시간과 시급을 계산하여 출력하는 코드\n",
        "- 일한시간(hour_worked)\n",
        "-일한 날짜(day_monthly)\n",
        "-시급(pay_rate)\n",
        "-월급(monthly_pay)\n"
      ],
      "metadata": {
        "id": "7duMCurto1Hb"
      }
    },
    {
      "cell_type": "code",
      "source": [
        "hours_worked = int(input(\"일한 시간을 입력하시오.: \"))\n",
        "pay_rate = int(input(\"시급을 입력하시오.(23년 시급 9620): \"))\n",
        "day_worked = int(input(\"일한 날짜를 입력하시오.: \"))\n",
        "day_month = hours_worked * day_worked\n",
        "monthly_pay = hours_worked * pay_rate * day_worked\n",
        "print(f'일한시간은 {hours_worked}시간 이며, 시급은 {pay_rate}원 이고, 월급여는 {monthly_pay}원 입니다.')\n"
      ],
      "metadata": {
        "colab": {
          "base_uri": "https://localhost:8080/"
        },
        "id": "Bb6EL6h7pD_y",
        "outputId": "8d631acf-4173-4442-db1f-373f6cc321d4"
      },
      "execution_count": null,
      "outputs": [
        {
          "output_type": "stream",
          "name": "stdout",
          "text": [
            "일한 시간을 입력하시오.: 10\n",
            "시급을 입력하시오.(23년 시급 9620): 9620\n",
            "일한 날짜를 입력하시오.: 25\n",
            "일한시간은 10시간 이며, 시급은 9620원 이고, 월급여는 2405000원 입니다.\n"
          ]
        }
      ]
    },
    {
      "cell_type": "markdown",
      "source": [
        "2. 환전하는 코드를 작성\n",
        " - 변수 won, usd, exchange\n",
        " - 계산 won * usd\n"
      ],
      "metadata": {
        "id": "Da42uyjtumaa"
      }
    },
    {
      "cell_type": "code",
      "source": [
        "usd = int(input(\"환전할 달러를 입력: \"))\n",
        "won = int(input(\"달러의 환율금액 입력(231031: 1372원)\"))\n",
        "exchange = won * usd\n",
        "print(f'환전하고 싶은 달러는 {usd}달러는 환율{won}으로 계산하면,  {exchange}원입니다.')"
      ],
      "metadata": {
        "colab": {
          "base_uri": "https://localhost:8080/"
        },
        "id": "jmhL9MwcvIBL",
        "outputId": "dac379e8-06b8-4055-c4a7-520b488d505f"
      },
      "execution_count": null,
      "outputs": [
        {
          "output_type": "stream",
          "name": "stdout",
          "text": [
            "환전할 달러를 입력: 500\n",
            "달러의 환율금액 입력(231031: 1372원)1372\n",
            "환전하고 싶은 달러는 500달러는 환율1372으로 계산하면,  686000원입니다.\n"
          ]
        }
      ]
    },
    {
      "cell_type": "markdown",
      "source": [
        "3. 화씨를 섭씨로 섭씨를 화씨로 변경하는 코드\n",
        " - 화씨를 섭씨로 ℉ = ℃ * 1.8 + 32\n",
        " - 섭씨를 화씨로 ℃ = (℉ - 32) / 1.8\n",
        " - 변수 : 화씨 fahrenheit, 섭씨 celsius\n"
      ],
      "metadata": {
        "id": "kNSxY40jyJD8"
      }
    },
    {
      "cell_type": "code",
      "source": [
        "fahrenheit = int(input(\"화씨를 입력하시오.: \"))\n",
        "celsius = (fahrenheit - 32) / 1.8\n",
        "print(celsius)"
      ],
      "metadata": {
        "colab": {
          "base_uri": "https://localhost:8080/"
        },
        "id": "6B5hQ0QGzbpP",
        "outputId": "d606be69-7c04-40a4-a248-b4456d052a0f"
      },
      "execution_count": null,
      "outputs": [
        {
          "output_type": "stream",
          "name": "stdout",
          "text": [
            "화씨를 입력하시오.: 100\n",
            "37.77777777777778\n"
          ]
        }
      ]
    },
    {
      "cell_type": "code",
      "source": [
        "celsius = float(input(\"섭씨를 입력하시오.: \"))\n",
        "fahrenheit = celsius * 1.8 + 32\n",
        "print(fahrenheit)"
      ],
      "metadata": {
        "colab": {
          "base_uri": "https://localhost:8080/"
        },
        "id": "-3LGZoXW0NjN",
        "outputId": "de95d5b9-01b5-4822-b72c-7ad5518024b6"
      },
      "execution_count": null,
      "outputs": [
        {
          "output_type": "stream",
          "name": "stdout",
          "text": [
            "섭씨를 입력하시오.: 37.77777777777778\n",
            "100.0\n"
          ]
        }
      ]
    },
    {
      "cell_type": "markdown",
      "source": [
        "4.사용자로부터 2개의 정수를 받아서 합계를 출력하시오.\n",
        " - 정수 x\n",
        " - 정수y"
      ],
      "metadata": {
        "id": "mW4O3rqIrPvj"
      }
    },
    {
      "cell_type": "code",
      "source": [
        "print(\"정수 2개를 입력하시오.: \")\n",
        "x = int(input(\"x의 값을 입력하시오.: \"))\n",
        "y = int(input(\"y의 값을 입력하시오.: \"))\n",
        "sum = x + y\n",
        "print(sum)\n",
        "print(f'{x} + {y} 의 값은 {sum}이다.')"
      ],
      "metadata": {
        "colab": {
          "base_uri": "https://localhost:8080/"
        },
        "id": "SPCLzNSFrowI",
        "outputId": "bcbb58f8-9405-4660-eda1-746e006b06af"
      },
      "execution_count": 1,
      "outputs": [
        {
          "output_type": "stream",
          "name": "stdout",
          "text": [
            "정수 2개를 입력하시오.: \n",
            "x의 값을 입력하시오.: 5\n",
            "y의 값을 입력하시오.: 6\n",
            "11\n",
            "5 + 6 의 값은 11이다.\n"
          ]
        }
      ]
    },
    {
      "cell_type": "markdown",
      "source": [
        "5. 부가세를 계산하시오.\n",
        " - 상품의 가격(price)\n",
        " - 부가세(vat)\n"
      ],
      "metadata": {
        "id": "Ol1cOJ4sszLg"
      }
    },
    {
      "cell_type": "code",
      "source": [
        "print(\"상품의 가격을 입력하시오.: \")\n",
        "price = int(input(\"상품의 가격: \"))\n",
        "vat = price * 0.1\n",
        "print(vat)\n",
        "print(f'상품의 가격은 {price}이며, 부가세는 {vat}이다. ')"
      ],
      "metadata": {
        "colab": {
          "base_uri": "https://localhost:8080/"
        },
        "id": "HgJ0Ka26s-X7",
        "outputId": "a68dcd23-1698-4b56-8bda-d0c3ba0e5300"
      },
      "execution_count": 3,
      "outputs": [
        {
          "output_type": "stream",
          "name": "stdout",
          "text": [
            "상품의 가격을 입력하시오.: \n",
            "상품의 가격: 5000\n",
            "500.0\n",
            "상품의 가격은 5000이며, 부가세는 500.0이다. \n"
          ]
        }
      ]
    }
  ]
}