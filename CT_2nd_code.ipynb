{
  "nbformat": 4,
  "nbformat_minor": 0,
  "metadata": {
    "colab": {
      "provenance": [],
      "authorship_tag": "ABX9TyMQcc8G3m+QN9kN1iwtifBk",
      "include_colab_link": true
    },
    "kernelspec": {
      "name": "python3",
      "display_name": "Python 3"
    },
    "language_info": {
      "name": "python"
    }
  },
  "cells": [
    {
      "cell_type": "markdown",
      "metadata": {
        "id": "view-in-github",
        "colab_type": "text"
      },
      "source": [
        "<a href=\"https://colab.research.google.com/github/wkdwldud/23python3rd/blob/main/CT_2nd_code.ipynb\" target=\"_parent\"><img src=\"https://colab.research.google.com/assets/colab-badge.svg\" alt=\"Open In Colab\"/></a>"
      ]
    },
    {
      "cell_type": "markdown",
      "source": [
        "2.사용자로 부터 3개의 변수를 입력 받아서 합을 구하고,평균울 구하는 코드\n",
        "  - 변수는:n1,n2,n3,total,average\n"
      ],
      "metadata": {
        "id": "nuFN3Dj4lTCu"
      }
    },
    {
      "cell_type": "markdown",
      "source": [
        "n1 = int(input(\"n1의 값을 입력하시오.: \"))\n",
        "n2 = int(input(\"n2의 값을 입력하시오.: \"))\n",
        "n3 = int(input(\"n3의 값을 입력하시오.: \"))\n",
        "total = n1 + n2 + n3\n",
        "ptint('합계는 :',total)\n",
        "average = total / 3\n",
        "print(평균은 :', average)\n",
        "n1 = int(input(\"n1의 값을 입력하시오.: \"))  # 사용자로부터 \"n1의 값을 입력하시오.: \" 메시지를 출력하고, 입력받은 값을 정수로 변환하여 n1 변수에 저장합니다.\n",
        "n2 = int(input(\"n2의 값을 입력하시오.: \"))  # 사용자로부터 \"n2의 값을 입력하시오.: \" 메시지를 출력하고, 입력받은 값을 정수로 변환하여 n2 변수에 저장합니다.\n",
        "n3 = int(input(\"n3의 값을 입력하시오.: \"))  # 사용자로부터 \"n3의 값을 입력하시오.: \" 메시지를 출력하고, 입력받은 값을 정수로 변환하여 n3 변수에 저장합니다.\n",
        "\n",
        "total = n1 + n2 + n3  # n1, n2, n3 변수의 값을 더하여 total 변수에 저장합니다.\n",
        "print('합계는:', total)  # \"합계는:\"와 total 변수의 값을 출력합니다.\n",
        "\n",
        "average = total / 3  # total 변수를 3으로 나눈 값을 average 변수에 저장합니다.\n",
        "print('평균은:', average)  # \"평균은:\"와 average 변수의 값을 출력합니다.\n"
      ],
      "metadata": {
        "id": "WZavl448muH-"
      }
    }
  ]
}