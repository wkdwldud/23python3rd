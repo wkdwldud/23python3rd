{
  "nbformat": 4,
  "nbformat_minor": 0,
  "metadata": {
    "colab": {
      "provenance": [],
      "authorship_tag": "ABX9TyNAMG4ZeO9eo3EvIBw0dCo0",
      "include_colab_link": true
    },
    "kernelspec": {
      "name": "python3",
      "display_name": "Python 3"
    },
    "language_info": {
      "name": "python"
    }
  },
  "cells": [
    {
      "cell_type": "markdown",
      "metadata": {
        "id": "view-in-github",
        "colab_type": "text"
      },
      "source": [
        "<a href=\"https://colab.research.google.com/github/wkdwldud/23python3rd/blob/main/CTBC_9.ipynb\" target=\"_parent\"><img src=\"https://colab.research.google.com/assets/colab-badge.svg\" alt=\"Open In Colab\"/></a>"
      ]
    },
    {
      "cell_type": "markdown",
      "source": [
        "1. 두가지 이상의 선택, 다방향 선택구조 코딩\n",
        " - 배송료 처리\n",
        " - 변수 : price\n",
        " - 조건 : 10만원 이상 배송비 0, 2만원 이상은 3천원, 2만원 이하면 5천원\n",
        "  "
      ],
      "metadata": {
        "id": "GB7dSEwxrczQ"
      }
    },
    {
      "cell_type": "code",
      "source": [
        "price = int(input(\"구입 금액 입력: \"))        # 배송료는 price 사용자가 정수형 금액입력\n",
        "if price >= 100000:                             # price의 값이 10민원보다 크거나 같으면\n",
        "  shipping_cost = 0                           # 선택1. 배송료 (shipping_cost)는 0원\n",
        "else:                                       # 그게 아니면\n",
        "    if price >= 20000:                         # 선택2. price값이 2만원보다 크거나 같으면\n",
        "      shipping_cost = 3000                    # 배송료(shipping_cost)는 3000원\n",
        "    else:                                   # 그것도 아니면\n",
        "        shipping_cost = 5000                  # 선택3. 배송료 (shipping_cost)는 5000원\n",
        "print(f'베송료는 {shipping_cost}원 입니다. ') # F-string문자 Forma으로 최종 배송출력"
      ],
      "metadata": {
        "colab": {
          "base_uri": "https://localhost:8080/"
        },
        "id": "gc4i3MtBsaxg",
        "outputId": "97015288-b276-4960-bc49-d9102f779e16"
      },
      "execution_count": 4,
      "outputs": [
        {
          "output_type": "stream",
          "name": "stdout",
          "text": [
            "구입 금액 입력: 25000\n",
            "베송료는 3000원 입니다. \n"
          ]
        }
      ]
    },
    {
      "cell_type": "markdown",
      "source": [
        "2. 반복구조를 이용한 \"환영합니다.\"를 5번 출력하는 코드작성\n",
        " - 변수 : welcome\n",
        " -  출력내용 :환영합니다.를 세로로5번,10번,30번\n"
      ],
      "metadata": {
        "id": "7d2TwKNfym3U"
      }
    },
    {
      "cell_type": "code",
      "source": [
        "print(\"환영합니다. \")\n",
        "print(\"환영합니다. \")\n",
        "print(\"환영합니다. \")\n",
        "print(\"환영합니다. \")\n",
        "print(\"환영합니다. \")"
      ],
      "metadata": {
        "colab": {
          "base_uri": "https://localhost:8080/"
        },
        "id": "gAwSS05AzI4O",
        "outputId": "43d6d5be-588c-4b39-e2c0-c2d4eca8f4e9"
      },
      "execution_count": 5,
      "outputs": [
        {
          "output_type": "stream",
          "name": "stdout",
          "text": [
            "환영합니다. \n",
            "환영합니다. \n",
            "환영합니다. \n",
            "환영합니다. \n",
            "환영합니다. \n"
          ]
        }
      ]
    },
    {
      "cell_type": "code",
      "source": [
        "print(\"환영합니다.wn\" * 5)"
      ],
      "metadata": {
        "colab": {
          "base_uri": "https://localhost:8080/"
        },
        "id": "Qqy7bM2-zbgF",
        "outputId": "c364ef70-3eff-47fd-d358-42c2a92500fb"
      },
      "execution_count": 8,
      "outputs": [
        {
          "output_type": "stream",
          "name": "stdout",
          "text": [
            "환영합니다.wn환영합니다.wn환영합니다.wn환영합니다.wn환영합니다.wn\n"
          ]
        }
      ]
    },
    {
      "cell_type": "code",
      "source": [
        "count = 0\n",
        "while count <= 5:\n",
        "  print(\"(\", count, \")\", \"환영합니다. \")\n",
        "  count = count + 1"
      ],
      "metadata": {
        "colab": {
          "base_uri": "https://localhost:8080/"
        },
        "id": "k9fVwBPCzoNt",
        "outputId": "1ea23a83-a41a-4e2d-b9fe-198e4fbfdb4e"
      },
      "execution_count": 9,
      "outputs": [
        {
          "output_type": "stream",
          "name": "stdout",
          "text": [
            "( 0 ) 환영합니다. \n",
            "( 1 ) 환영합니다. \n",
            "( 2 ) 환영합니다. \n",
            "( 3 ) 환영합니다. \n",
            "( 4 ) 환영합니다. \n",
            "( 5 ) 환영합니다. \n"
          ]
        }
      ]
    },
    {
      "cell_type": "markdown",
      "source": [
        "3. 0부터 9까지 출력하는 코드 작성\n",
        " - 변수 : x\n",
        ""
      ],
      "metadata": {
        "id": "iC15-ORD1nC8"
      }
    },
    {
      "cell_type": "code",
      "source": [
        "x = 0\n",
        "while x < 9:\n",
        "  #print(x)\n",
        "   print(x, end= ' ')\n",
        "   x = x + 1"
      ],
      "metadata": {
        "colab": {
          "base_uri": "https://localhost:8080/"
        },
        "id": "eAcMfoBq1wbk",
        "outputId": "560cc691-aa70-4b55-9699-f515fa28d1a6"
      },
      "execution_count": 19,
      "outputs": [
        {
          "output_type": "stream",
          "name": "stdout",
          "text": [
            "0 1 2 3 4 5 6 7 8 9 "
          ]
        }
      ]
    },
    {
      "cell_type": "markdown",
      "source": [
        "4, 1부터 10까지 합산하는 코드작성\n"
      ],
      "metadata": {
        "id": "gZTu7vx63HL0"
      }
    },
    {
      "cell_type": "code",
      "source": [
        "x = 1\n",
        "total = 0\n",
        "while x <= 10:\n",
        "  total =+ x\n",
        "  #total = total + 1\n",
        "  #x = x + 1\n",
        "  x += 1\n",
        "print(total)"
      ],
      "metadata": {
        "colab": {
          "base_uri": "https://localhost:8080/"
        },
        "id": "kzXFwzh73NY8",
        "outputId": "9a2844f7-2748-4886-a880-b7b70cedccb6"
      },
      "execution_count": 21,
      "outputs": [
        {
          "output_type": "stream",
          "name": "stdout",
          "text": [
            "10\n"
          ]
        }
      ]
    },
    {
      "cell_type": "markdown",
      "source": [
        "5. 3-6-9 게임(3의 배수 판단): 3의 배수를 3으로 나누면 나머지가 0이 되므로(i mod 3)의 값이 0이면 박수를 출력, 아니면 숫자 출력하는 코드"
      ],
      "metadata": {
        "id": "PAHZ97z54Lwd"
      }
    },
    {
      "cell_type": "code",
      "source": [
        "for num in range(1, 21):\n",
        "  if num % 3 == 0:\n",
        "    print(\"박수\", end=' ')\n",
        "  else:\n",
        "      print(num, end=' ')"
      ],
      "metadata": {
        "colab": {
          "base_uri": "https://localhost:8080/"
        },
        "id": "cpzzTRjx4qKS",
        "outputId": "c1c1be74-17bd-42d2-b6e8-e1a42221a53c"
      },
      "execution_count": 24,
      "outputs": [
        {
          "output_type": "stream",
          "name": "stdout",
          "text": [
            "1 2 박수 4 5 박수 7 8 박수 10 11 박수 13 14 박수 16 17 박수 19 "
          ]
        }
      ]
    },
    {
      "cell_type": "code",
      "source": [
        "num = 1\n",
        "while num <= 20:\n",
        "   if num % 3 == 0:\n",
        "    print(\"박수\", end=' ')\n",
        "    num += 1"
      ],
      "metadata": {
        "colab": {
          "base_uri": "https://localhost:8080/",
          "height": 258
        },
        "id": "i8xfX5sL5V6T",
        "outputId": "f013d39a-ed9c-479e-8d51-552e0dc58ccb"
      },
      "execution_count": 26,
      "outputs": [
        {
          "output_type": "error",
          "ename": "KeyboardInterrupt",
          "evalue": "ignored",
          "traceback": [
            "\u001b[0;31m---------------------------------------------------------------------------\u001b[0m",
            "\u001b[0;31mKeyboardInterrupt\u001b[0m                         Traceback (most recent call last)",
            "\u001b[0;32m<ipython-input-26-bb29476bad58>\u001b[0m in \u001b[0;36m<cell line: 2>\u001b[0;34m()\u001b[0m\n\u001b[1;32m      1\u001b[0m \u001b[0mnum\u001b[0m \u001b[0;34m=\u001b[0m \u001b[0;36m1\u001b[0m\u001b[0;34m\u001b[0m\u001b[0;34m\u001b[0m\u001b[0m\n\u001b[0;32m----> 2\u001b[0;31m \u001b[0;32mwhile\u001b[0m \u001b[0mnum\u001b[0m \u001b[0;34m<=\u001b[0m \u001b[0;36m20\u001b[0m\u001b[0;34m:\u001b[0m\u001b[0;34m\u001b[0m\u001b[0;34m\u001b[0m\u001b[0m\n\u001b[0m\u001b[1;32m      3\u001b[0m    \u001b[0;32mif\u001b[0m \u001b[0mnum\u001b[0m \u001b[0;34m%\u001b[0m \u001b[0;36m3\u001b[0m \u001b[0;34m==\u001b[0m \u001b[0;36m0\u001b[0m\u001b[0;34m:\u001b[0m\u001b[0;34m\u001b[0m\u001b[0;34m\u001b[0m\u001b[0m\n\u001b[1;32m      4\u001b[0m     \u001b[0mprint\u001b[0m\u001b[0;34m(\u001b[0m\u001b[0;34m\"박수\"\u001b[0m\u001b[0;34m,\u001b[0m \u001b[0mend\u001b[0m\u001b[0;34m=\u001b[0m\u001b[0;34m' '\u001b[0m\u001b[0;34m)\u001b[0m\u001b[0;34m\u001b[0m\u001b[0;34m\u001b[0m\u001b[0m\n\u001b[1;32m      5\u001b[0m     \u001b[0mnum\u001b[0m \u001b[0;34m+=\u001b[0m \u001b[0;36m1\u001b[0m\u001b[0;34m\u001b[0m\u001b[0;34m\u001b[0m\u001b[0m\n",
            "\u001b[0;31mKeyboardInterrupt\u001b[0m: "
          ]
        }
      ]
    }
  ]
}