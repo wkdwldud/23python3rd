{
  "nbformat": 4,
  "nbformat_minor": 0,
  "metadata": {
    "colab": {
      "provenance": [],
      "authorship_tag": "ABX9TyMr9rZAr4paXkJ2VjjwBLkp",
      "include_colab_link": true
    },
    "kernelspec": {
      "name": "python3",
      "display_name": "Python 3"
    },
    "language_info": {
      "name": "python"
    }
  },
  "cells": [
    {
      "cell_type": "markdown",
      "metadata": {
        "id": "view-in-github",
        "colab_type": "text"
      },
      "source": [
        "<a href=\"https://colab.research.google.com/github/wkdwldud/23python3rd/blob/main/CTBC_9.ipynb\" target=\"_parent\"><img src=\"https://colab.research.google.com/assets/colab-badge.svg\" alt=\"Open In Colab\"/></a>"
      ]
    },
    {
      "cell_type": "markdown",
      "source": [
        "1. 두가지 이상의 선택, 다방향 선택구조 코딩\n",
        " - 배송료 처리\n",
        " - 변수 : price\n",
        " - 조건 : 10만원 이상 배송비 0, 2만원 이상은 3천원, 2만원 이하면 5천원\n",
        "  "
      ],
      "metadata": {
        "id": "GB7dSEwxrczQ"
      }
    },
    {
      "cell_type": "code",
      "source": [
        "price = int(input(\"구입 금액 입력: \"))        # 배송료는 price 사용자가 정수형 금액입력\n",
        "if price >= 100000:                             # price의 값이 10민원보다 크거나 같으면\n",
        "  shipping_cost = 0                           # 선택1. 배송료 (shipping_cost)는 0원\n",
        "else:                                       # 그게 아니면\n",
        "    if price >= 20000:                         # 선택2. price값이 2만원보다 크거나 같으면\n",
        "      shipping_cost = 3000                    # 배송료(shipping_cost)는 3000원\n",
        "    else:                                   # 그것도 아니면\n",
        "        shipping_cost = 5000                  # 선택3. 배송료 (shipping_cost)는 5000원\n",
        "print(f'베송료는 {shipping_cost}원 입니다. ') # F-string문자 Forma으로 최종 배송출력\n",
        "price = int(input(\"구입 금액 입력: \"))  # 사용자로부터 구입 금액을 정수형으로 입력받아 price 변수에 저장\n",
        "if price >= 100000:  # 만약 구입 금액이 100000원 이상이면\n",
        "  shipping_cost = 0  # 배송료는 0원\n",
        "else:  # 그렇지 않으면\n",
        "    if price >= 20000:  # 구입 금액이 20000원 이상이면\n",
        "      shipping_cost = 3000  # 배송료는 3000원\n",
        "    else:  # 그렇지 않으면\n",
        "        shipping_cost = 5000  # 배송료는 5000원\n",
        "print(f'베송료는 {shipping_cost}원 입니다. ')  # F-string 포맷을 사용하여 배송료 출력\n"
      ],
      "metadata": {
        "colab": {
          "base_uri": "https://localhost:8080/"
        },
        "id": "gc4i3MtBsaxg",
        "outputId": "97015288-b276-4960-bc49-d9102f779e16"
      },
      "execution_count": null,
      "outputs": [
        {
          "output_type": "stream",
          "name": "stdout",
          "text": [
            "구입 금액 입력: 25000\n",
            "베송료는 3000원 입니다. \n"
          ]
        }
      ]
    },
    {
      "cell_type": "markdown",
      "source": [
        "이 코드는 사용자로부터 구입 금액을 입력받아 배송료를 계산하는 코드입니다.\n",
        "\n",
        "price = int(input(\"구입 금액 입력: \")) : 사용자로부터 정수형 구입 금액을 입력받아 price 변수에 저장합니다.\n",
        "if price >= 100000: : 만약 구입 금액이 100,000원 이상이라면 배송료는 0원입니다.\n",
        "else: : 만약 구입 금액이 100,000원 미만이라면 아래의 코드로 이어집니다.\n",
        "if price >= 20000: : 만약 구입 금액이 20,000원 이상이라면 배송료는 3,000원입니다.\n",
        "else: : 만약 구입 금액이 20,000원 미만이라면 배송료는 5,000원입니다.\n",
        "print(f'베송료는 {shipping_cost}원 입니다. ') : 최종 배송료를 출력합니다. F-string 포맷을 사용하여 문자열 안에 변수 shipping_cost의 값을 출력합니다."
      ],
      "metadata": {
        "id": "Wr8ulcwcVp80"
      }
    },
    {
      "cell_type": "markdown",
      "source": [
        "2. 반복구조를 이용한 \"환영합니다.\"를 5번 출력하는 코드작성\n",
        " - 변수 : welcome\n",
        " -  출력내용 :환영합니다.를 세로로5번,10번,30번\n"
      ],
      "metadata": {
        "id": "7d2TwKNfym3U"
      }
    },
    {
      "cell_type": "code",
      "source": [
        "print(\"환영합니다. \")\n",
        "print(\"환영합니다. \")\n",
        "print(\"환영합니다. \")\n",
        "print(\"환영합니다. \")\n",
        "print(\"환영합니다. \")\n",
        "for _ in range(5):  # 5번 반복\n",
        "    print(\"환영합니다.\")  # \"환영합니다.\"를 출력"
      ],
      "metadata": {
        "colab": {
          "base_uri": "https://localhost:8080/"
        },
        "id": "gAwSS05AzI4O",
        "outputId": "43d6d5be-588c-4b39-e2c0-c2d4eca8f4e9"
      },
      "execution_count": null,
      "outputs": [
        {
          "output_type": "stream",
          "name": "stdout",
          "text": [
            "환영합니다. \n",
            "환영합니다. \n",
            "환영합니다. \n",
            "환영합니다. \n",
            "환영합니다. \n"
          ]
        }
      ]
    },
    {
      "cell_type": "markdown",
      "source": [
        "이 코드는 \"환영합니다.\"를 5번 출력하는 반복문입니다.\n",
        "\n",
        "for _ in range(5): : _라는 변수를 5번 반복합니다. _는 관습적으로 반복 횟수에 관심이 없을 때 사용하는 변수 이름입니다.\n",
        "print(\"환영합니다.\") : \"환영합니다.\"를 출력합니다. 이 부분이 5번 반복되므로 \"환영합니다.\"가 총 5번 출력됩니다."
      ],
      "metadata": {
        "id": "lRw8faY0WRG3"
      }
    },
    {
      "cell_type": "code",
      "source": [
        "print(\"환영합니다.wn\" * 5)"
      ],
      "metadata": {
        "colab": {
          "base_uri": "https://localhost:8080/"
        },
        "id": "Qqy7bM2-zbgF",
        "outputId": "c364ef70-3eff-47fd-d358-42c2a92500fb"
      },
      "execution_count": null,
      "outputs": [
        {
          "output_type": "stream",
          "name": "stdout",
          "text": [
            "환영합니다.wn환영합니다.wn환영합니다.wn환영합니다.wn환영합니다.wn\n"
          ]
        }
      ]
    },
    {
      "cell_type": "code",
      "source": [
        "count = 0\n",
        "while count <= 5:\n",
        "  print(\"(\", count, \")\", \"환영합니다. \")\n",
        "  count = count + 1\n",
        "  count = 0  # 변수 count를 0으로 초기화합니다.\n",
        "\n",
        "while count <= 5:  # count가 5 이하인 동안 반복합니다.\n",
        "    print(\"(\", count, \")\", \"환영합니다.\")  # count와 \"환영합니다.\"를 함께 출력합니다.\n",
        "    count = count + 1  # count를 1씩 증가시킵니다."
      ],
      "metadata": {
        "colab": {
          "base_uri": "https://localhost:8080/"
        },
        "id": "k9fVwBPCzoNt",
        "outputId": "1ea23a83-a41a-4e2d-b9fe-198e4fbfdb4e"
      },
      "execution_count": null,
      "outputs": [
        {
          "output_type": "stream",
          "name": "stdout",
          "text": [
            "( 0 ) 환영합니다. \n",
            "( 1 ) 환영합니다. \n",
            "( 2 ) 환영합니다. \n",
            "( 3 ) 환영합니다. \n",
            "( 4 ) 환영합니다. \n",
            "( 5 ) 환영합니다. \n"
          ]
        }
      ]
    },
    {
      "cell_type": "markdown",
      "source": [
        "위의 코드는 while 루프를 사용하여 count 변수가 5 이하인 동안 반복합니다.\n",
        "\n",
        "count = 0 : count 변수를 0으로 초기화합니다.\n",
        "while count <= 5: : count 변수가 5 이하인 동안 반복합니다.\n",
        "print(\"(\", count, \")\", \"환영합니다.\") : count 값과 \"환영합니다.\"를 함께 출력합니다. count 값은 괄호와 함께 출력됩니다.\n",
        "count = count + 1 : count 값을 1씩 증가시킵니다. 이는 반복이 진행될 때마다 count 값이 1씩 증가하는 것을 의미합니다.\n",
        "따라서, 위의 코드는 0부터 5까지의 숫자와 함께 \"환영합니다.\"를 출력하는 반복문입니다."
      ],
      "metadata": {
        "id": "SP6vmGlxWeaM"
      }
    },
    {
      "cell_type": "markdown",
      "source": [
        "3. 0부터 9까지 출력하는 코드 작성\n",
        " - 변수 : x\n"
      ],
      "metadata": {
        "id": "iC15-ORD1nC8"
      }
    },
    {
      "cell_type": "code",
      "source": [
        "x = 0\n",
        "while x < 9:\n",
        "  #print(x)\n",
        "   print(x, end= ' ')\n",
        "   x = x + 1\n",
        "   x = 0  # 변수 x를 0으로 초기화합니다.\n",
        "\n",
        "while x < 9:  # x가 9보다 작은 동안 반복합니다.\n",
        "    #print(x)  # x를 출력합니다. (주석 처리된 코드이므로 실행되지 않습니다.)\n",
        "    print(x, end=' ')  # x를 출력하고, 공백으로 구분합니다.\n",
        "    x = x + 1  # x 값을 1씩 증가시킵니다."
      ],
      "metadata": {
        "colab": {
          "base_uri": "https://localhost:8080/"
        },
        "id": "eAcMfoBq1wbk",
        "outputId": "560cc691-aa70-4b55-9699-f515fa28d1a6"
      },
      "execution_count": null,
      "outputs": [
        {
          "output_type": "stream",
          "name": "stdout",
          "text": [
            "0 1 2 3 4 5 6 7 8 9 "
          ]
        }
      ]
    },
    {
      "cell_type": "markdown",
      "source": [
        "위의 코드는 while 루프를 사용하여 x 변수가 9보다 작은 동안 반복합니다.\n",
        "\n",
        "x = 0 : x 변수를 0으로 초기화합니다.\n",
        "while x < 9: : x 변수가 9보다 작은 동안 반복합니다.\n",
        "#print(x) : 주석 처리된 코드이므로 실행되지 않습니다. 따라서 x 값을 출력하지 않습니다.\n",
        "print(x, end=' ') : x 값을 출력하고, 출력 후에 줄바꿈 대신 공백을 사용하여 다음 출력과 구분합니다.\n",
        "x = x + 1 : x 값을 1씩 증가시킵니다. 이는 반복이 진행될 때마다 x 값이 1씩 증가하는 것을 의미합니다.\n",
        "따라서, 위의 코드는 0부터 8까지의 숫자를 공백으로 구분하여 출력하는 반복문입니다.\n",
        "\n",
        "\n",
        "\n",
        "\n"
      ],
      "metadata": {
        "id": "5ueridOqWroU"
      }
    },
    {
      "cell_type": "markdown",
      "source": [
        "4, 1부터 10까지 합산하는 코드작성\n"
      ],
      "metadata": {
        "id": "gZTu7vx63HL0"
      }
    },
    {
      "cell_type": "code",
      "source": [
        "x = 1\n",
        "total = 0\n",
        "while x <= 10:\n",
        "  total =+ x\n",
        "  #total = total + 1\n",
        "  #x = x + 1\n",
        "  x += 1\n",
        "print(total)\n",
        "x = 1  # 변수 x를 1로 초기화합니다.\n",
        "total = 0  # 변수 total을 0으로 초기화합니다.\n",
        "\n",
        "while x <= 10:  # x가 10 이하인 동안 반복합니다.\n",
        "    total =+ x  # x 값을 total에 더합니다. (주석 처리된 코드이므로 실행되지 않습니다.)\n",
        "    #total = total + 1  # total에 x 값을 더합니다. (주석 처리된 코드이므로 실행되지 않습니다.)\n",
        "    #x = x + 1  # x 값을 1씩 증가시킵니다. (주석 처리된 코드이므로 실행되지 않습니다.)\n",
        "    x += 1  # x 값을 1씩 증가시킵니다.\n",
        "\n",
        "print(total)  # total 값을 출력합니다."
      ],
      "metadata": {
        "colab": {
          "base_uri": "https://localhost:8080/"
        },
        "id": "kzXFwzh73NY8",
        "outputId": "9a2844f7-2748-4886-a880-b7b70cedccb6"
      },
      "execution_count": null,
      "outputs": [
        {
          "output_type": "stream",
          "name": "stdout",
          "text": [
            "10\n"
          ]
        }
      ]
    },
    {
      "cell_type": "markdown",
      "source": [
        "위의 코드는 while 루프를 사용하여 x 변수가 10 이하인 동안 반복합니다. 이때 total 변수에 x 값을 누적하여 합산합니다.\n",
        "\n",
        "x = 1 : x 변수를 1로 초기화합니다.\n",
        "total = 0 : total 변수를 0으로 초기화합니다.\n",
        "while x <= 10: : x 변수가 10 이하인 동안 반복합니다.\n",
        "total =+ x : x 값을 total에 더합니다. 주석 처리된 코드이므로 실행되지 않습니다. 실제로는 total += x로 수정되어야 합니다. (+= 연산자를 사용하여 total에 x 값을 더합니다.)\n",
        "x += 1 : x 값을 1씩 증가시킵니다. 이는 반복이 진행될 때마다 x 값이 1씩 증가하는 것을 의미합니다.\n",
        "print(total) : total 값을 출력합니다. 최종적으로 1부터 10까지의 숫자를 누적하여 합산한 결과가 출력됩니다."
      ],
      "metadata": {
        "id": "UdHsIIdMW348"
      }
    },
    {
      "cell_type": "markdown",
      "source": [
        "5. 3-6-9 게임(3의 배수 판단): 3의 배수를 3으로 나누면 나머지가 0이 되므로(i mod 3)의 값이 0이면 박수를 출력, 아니면 숫자 출력하는 코드"
      ],
      "metadata": {
        "id": "PAHZ97z54Lwd"
      }
    },
    {
      "cell_type": "code",
      "source": [
        "for num in range(1, 21):\n",
        "  if num % 3 == 0:\n",
        "    print(\"박수\", end=' ')\n",
        "  else:\n",
        "      print(num, end=' ')\n",
        "      for num in range(1, 21):  # 1부터 20까지의 숫자에 대해 반복합니다.\n",
        "    if num % 3 == 0:  # 숫자가 3의 배수인지 확인합니다.\n",
        "        print(\"박수\", end=' ')  # 3의 배수인 경우 \"박수\"를 출력하고, 공백으로 구분합니다.\n",
        "    else:\n",
        "        print(num, end=' ')  # 3의 배수가 아닌 경우 숫자를 출력하고, 공백으로 구분합니다."
      ],
      "metadata": {
        "colab": {
          "base_uri": "https://localhost:8080/"
        },
        "id": "cpzzTRjx4qKS",
        "outputId": "c1c1be74-17bd-42d2-b6e8-e1a42221a53c"
      },
      "execution_count": null,
      "outputs": [
        {
          "output_type": "stream",
          "name": "stdout",
          "text": [
            "1 2 박수 4 5 박수 7 8 박수 10 11 박수 13 14 박수 16 17 박수 19 "
          ]
        }
      ]
    },
    {
      "cell_type": "markdown",
      "source": [
        "위의 코드는 for 루프를 사용하여 변수 num이 1부터 20까지의 숫자에 대해 반복합니다.\n",
        "\n",
        "for num in range(1, 21): : 변수 num을 1부터 20까지의 숫자로 반복합니다.\n",
        "if num % 3 == 0: : 숫자 num이 3의 배수인지 확인합니다. (% 연산자를 사용하여 num을 3으로 나눈 나머지가 0인지 확인합니다.)\n",
        "print(\"박수\", end=' ') : 3의 배수인 경우 \"박수\"를 출력하고, 출력 후에 줄바꿈 대신 공백을 사용하여 다음 출력과 구분합니다.\n",
        "print(num, end=' ') : 3의 배수가 아닌 경우 숫자 num을 출력하고, 출력 후에 줄바꿈 대신 공백을 사용하여 다음 출력과 구분합니다.\n",
        "따라서, 위의 코드는 1부터 20까지의 숫자를 반복하면서, 3의 배수인 경우 \"박수\"를 출력하고, 그렇지 않은 경우 숫자를 출력하는 반복문입니다. 출력은 공백으로 구분됩니다."
      ],
      "metadata": {
        "id": "Bl0N6eI9XFYT"
      }
    },
    {
      "cell_type": "code",
      "source": [
        "num = 1\n",
        "while num <= 20:\n",
        "    if num % 3 == 0:\n",
        "      print(\"박수\", end=' ')\n",
        "    else:\n",
        "      print(num, end=' ')\n",
        "    num += 1\n",
        "    num = 1  # 변수 num을 1로 초기화합니다.\n",
        "\n",
        "while num <= 20:  # num이 20 이하인 동안 반복합니다.\n",
        "    if num % 3 == 0:  # num이 3의 배수인지 확인합니다.\n",
        "        print(\"박수\", end=' ')  # 3의 배수인 경우 \"박수\"를 출력하고, 공백으로 구분합니다.\n",
        "    else:\n",
        "        print(num, end=' ')  # 3의 배수가 아닌 경우 num을 출력하고, 공백으로 구분합니다.\n",
        "    num += 1  # num을 1씩 증가시킵니다."
      ],
      "metadata": {
        "colab": {
          "base_uri": "https://localhost:8080/"
        },
        "id": "i8xfX5sL5V6T",
        "outputId": "218dd4fa-73a8-4c43-c782-fe07a638fcc6"
      },
      "execution_count": null,
      "outputs": [
        {
          "output_type": "stream",
          "name": "stdout",
          "text": [
            "1 2 박수 4 5 박수 7 8 박수 10 11 박수 13 14 박수 16 17 박수 19 20 "
          ]
        }
      ]
    },
    {
      "cell_type": "markdown",
      "source": [
        "위의 코드는 while 루프를 사용하여 변수 num이 1부터 20까지의 숫자에 대해 반복합니다.\n",
        "\n",
        "num = 1 : 변수 num을 1로 초기화합니다.\n",
        "while num <= 20: : num 변수가 20 이하인 동안 반복합니다.\n",
        "if num % 3 == 0: : num이 3의 배수인지 확인합니다. (% 연산자를 사용하여 num을 3으로 나눈 나머지가 0인지 확인합니다.)\n",
        "print(\"박수\", end=' ') : 3의 배수인 경우 \"박수\"를 출력하고, 출력 후에 줄바꿈 대신 공백을 사용하여 다음 출력과 구분합니다.\n",
        "print(num, end=' ') : 3의 배수가 아닌 경우 num을 출력하고, 출력 후에 줄바꿈 대신 공백을 사용하여 다음 출력과 구분합니다.\n",
        "num += 1 : num을 1씩 증가시킵니다. 이는 반복이 진행될 때마다 num 값이 1씩 증가하는 것을 의미합니다.\n",
        "따라서, 위의 코드는 1부터 20까지의 숫자를 반복하면서, 3의 배수인 경우 \"박수\"를 출력하고, 그렇지 않은 경우 숫자를 출력하는 반복문입니다. 출력은 공백으로 구분됩니다."
      ],
      "metadata": {
        "id": "AspYgLccXTHo"
      }
    },
    {
      "cell_type": "markdown",
      "source": [
        "6. 팩토리얼 계산하는 코드 작성\n",
        "- 1! = 1, 2! =  2(1) 3! = 3(2)(1) = 6"
      ],
      "metadata": {
        "id": "JlMXXXzEb9R6"
      }
    },
    {
      "cell_type": "code",
      "source": [
        "i = 5\n",
        "factorial = 1\n",
        "while i <= 1:\n",
        "    factorial *= 1\n",
        "    i += 1\n",
        "print(factorial)\n",
        "i = 5  # 변수 i를 5로 초기화합니다.\n",
        "factorial = 1  # 변수 factorial을 1로 초기화합니다.\n",
        "\n",
        "while i <= 1:  # i가 1 이하인 동안 반복합니다. (실행되지 않음)\n",
        "    factorial *= 1  # factorial에 1을 곱합니다. (실행되지 않음)\n",
        "    i += 1  # i 값을 1씩 증가시킵니다. (실행되지 않음)\n",
        "\n",
        "print(factorial)  # factorial 값을 출력합니다. 초기값인 1이 출력됩니다."
      ],
      "metadata": {
        "colab": {
          "base_uri": "https://localhost:8080/"
        },
        "id": "YS_jkS-wcXXR",
        "outputId": "74558607-ddd3-4c28-951e-8d95c33a6080"
      },
      "execution_count": null,
      "outputs": [
        {
          "output_type": "stream",
          "name": "stdout",
          "text": [
            "1\n"
          ]
        }
      ]
    },
    {
      "cell_type": "markdown",
      "source": [
        "위의 코드는 while 루프를 사용하여 변수 i가 1 이하인 동안 반복합니다. 하지만 초기값으로 주어진 i가 5이므로 반복문은 실행되지 않습니다.\n",
        "\n",
        "i = 5 : 변수 i를 5로 초기화합니다.\n",
        "factorial = 1 : 변수 factorial을 1로 초기화합니다.\n",
        "while i <= 1: : i 변수가 1 이하인 동안 반복합니다. 하지만 i의 초기값이 5로 주어져 있으므로 반복문은 실행되지 않습니다.\n",
        "factorial *= 1 : factorial에 1을 곱합니다. 이는 반복문이 실행되지 않으므로 실제로는 실행되지 않습니다.\n",
        "i += 1 : i 값을 1씩 증가시킵니다. 이는 반복문이 실행되지 않으므로 실제로는 실행되지 않습니다.\n",
        "print(factorial) : factorial 값을 출력합니다. 초기값으로 주어진 1이 출력됩니다.\n",
        "따라서, 주어진 코드는 반복문이 실행되지 않고, 초기값인 factorial 변수의 값을 출력하는 코드입니다. 출력 결과로는 1이 출력됩니다."
      ],
      "metadata": {
        "id": "I8mGEnGoX3G3"
      }
    },
    {
      "cell_type": "code",
      "source": [
        "# 계산할 숫자를 입력받습니다\n",
        "num = int(input(\"팩토리얼울 계산할 숫자를 입력하시오.: \"))\n",
        "\n",
        "# 초기값으로 1을 설정합니다.\n",
        "factorial = 1\n",
        "\n",
        "#팩토리얼 계산을 위한 반복문인 while 입니다.\n",
        "while num <= 1:                  #num값이 1보다 작거나 같을 때 하위 문장(코드)를 진행\n",
        "    factorial = factorial * num #현재 num값을 factorial값에 곱해줍니다.\n",
        "    num -= 1                    #num값을 1식 감소시킵니다.\n",
        "\n",
        "print(f'계된 팩토리얼 값은 {factorial} 입니다.')\n",
        "num = int(input(\"팩토리얼을 계산할 숫자를 입력하시오.: \"))  # 사용자로부터 숫자를 입력받아 정수로 변환하여 num 변수에 저장합니다.\n",
        "\n",
        "factorial = 1  # 초기값으로 factorial을 1로 설정합니다.\n",
        "\n",
        "while num <= 1:  # num값이 1보다 작거나 같을 때 반복합니다. (실행되지 않음)\n",
        "    factorial = factorial * num  # 현재 num값을 factorial값에 곱해줍니다. (실행되지 않음)\n",
        "    num -= 1  # num값을 1식 감소시킵니다. (실행되지 않음)\n",
        "\n",
        "print(f'계산된 팩토리얼 값은 {factorial} 입니다.')  # 계산된 팩토리얼 값을 출력합니다."
      ],
      "metadata": {
        "colab": {
          "base_uri": "https://localhost:8080/"
        },
        "id": "8w4KR12Jcurx",
        "outputId": "e2c79109-ecd5-4367-cd94-66a769e74cd1"
      },
      "execution_count": null,
      "outputs": [
        {
          "output_type": "stream",
          "name": "stdout",
          "text": [
            "팩토리얼울 계산할 숫자를 입력하시오.: 5\n",
            "계된 팩토리얼 값은 1 입니다.\n"
          ]
        }
      ]
    },
    {
      "cell_type": "markdown",
      "source": [
        "위의 코드는 사용자로부터 입력받은 숫자의 팩토리얼을 계산하는 반복문입니다.\n",
        "\n",
        "num = int(input(\"팩토리얼을 계산할 숫자를 입력하시오.: \")) : 사용자로부터 \"팩토리얼을 계산할 숫자를 입력하시오.\"라는 메시지를 출력하고, 입력받은 값을 정수로 변환하여 num 변수에 저장합니다.\n",
        "factorial = 1 : 초기값으로 factorial을 1로 설정합니다.\n",
        "while num <= 1: : num값이 1보다 작거나 같을 때 반복합니다. 하지만 num 변수는 사용자로부터 입력받은 값이기 때문에, 입력한 값이 1보다 작거나 같을 때에만 반복문이 실행됩니다.\n",
        "factorial = factorial * num : 현재 num값을 factorial값에 곱해줍니다. 이는 반복문이 실행될 때마다 factorial에 num 값을 곱하여 팩토리얼 값을 계산하는 과정입니다.\n",
        "num -= 1 : num값을 1씩 감소시킵니다. 이는 반복문이 실행될 때마다 num 값을 1씩 감소시키는 것을 의미합니다.\n",
        "print(f'계산된 팩토리얼 값은 {factorial} 입니다.') : 계산된 팩토리얼 값을 출력합니다. 출력 결과로는 입력한 숫자의 팩토리얼 값이 출력됩니다.\n",
        "따라서, 주어진 코드는 사용자로부터 입력받은 숫자의 팩토리얼을 계산하여 출력하는 코드입니다. 출력 결과로는 계산된 팩토리얼 값이 출력됩니다."
      ],
      "metadata": {
        "id": "QHOwD2JpYCXi"
      }
    },
    {
      "cell_type": "markdown",
      "source": [
        "7. 구구단 출력해주는 코드 작성\n",
        " - 변수 : dum\n",
        " - 반복문(!) : for 문 사용\n",
        " - 반복문(2) : while문 사용"
      ],
      "metadata": {
        "id": "DZmVCOs0e4ox"
      }
    },
    {
      "cell_type": "code",
      "source": [
        "# for문 사용\n",
        "dan = int(input(\"구구단에서 몇단을 출력할까요: \"))\n",
        "for i in range(1,10):\n",
        "    print(dan, \"x\", i, \"=\",  dan * i)\n",
        "    dan = int(input(\"구구단에서 몇 단을 출력할까요: \"))  # 사용자로부터 \"구구단에서 몇 단을 출력할까요: \"라는 메시지를 출력하고, 입력받은 값을 정수로 변환하여 dan 변수에 저장합니다.\n",
        "\n",
        "for i in range(1, 10):  # 1부터 9까지의 숫자에 대해 반복합니다.\n",
        "    print(dan, \"x\", i, \"=\", dan * i)  # dan 변수와 i를 곱한 값을 출력합니다."
      ],
      "metadata": {
        "colab": {
          "base_uri": "https://localhost:8080/"
        },
        "id": "B0K5E3c_fMNh",
        "outputId": "8bcbf525-6b81-4738-ec18-a4437213b9c2"
      },
      "execution_count": null,
      "outputs": [
        {
          "output_type": "stream",
          "name": "stdout",
          "text": [
            "구구단에서 몇단을 출력할까요: 4\n",
            "4 x 1 = 4\n",
            "4 x 2 = 8\n",
            "4 x 3 = 12\n",
            "4 x 4 = 16\n",
            "4 x 5 = 20\n",
            "4 x 6 = 24\n",
            "4 x 7 = 28\n",
            "4 x 8 = 32\n",
            "4 x 9 = 36\n"
          ]
        }
      ]
    },
    {
      "cell_type": "markdown",
      "source": [
        "위의 코드는 for 루프를 사용하여 1부터 9까지의 숫자에 대해 반복하면서 구구단을 출력합니다.\n",
        "\n",
        "dan = int(input(\"구구단에서 몇 단을 출력할까요: \")) : 사용자로부터 \"구구단에서 몇 단을 출력할까요: \"라는 메시지를 출력하고, 입력받은 값을 정수로 변환하여 dan 변수에 저장합니다.\n",
        "for i in range(1, 10): : 1부터 9까지의 숫자에 대해 반복합니다.\n",
        "print(dan, \"x\", i, \"=\", dan * i) : dan 변수와 i를 곱한 값을 출력합니다. 출력 결과로는 구구단의 각 계산식이 출력됩니다.\n",
        "따라서, 주어진 코드는 사용자로부터 입력받은 숫자에 대한 구구단을 출력하는 코드입니다. 출력 결과로는 입력한 숫자에 대한 구구단이 출력됩니다."
      ],
      "metadata": {
        "id": "Zddl1BxkYQAZ"
      }
    },
    {
      "cell_type": "code",
      "source": [
        "# while문 사용\n",
        "dan = int(input(\"구구단에서 몇단을 출력할래?: \"))\n",
        "i = 1\n",
        "while i <= 9:\n",
        "    print(dan, \"x\", i, \"=\",  dan * i)\n",
        "    i += 1\n",
        "    dan = int(input(\"구구단에서 몇 단을 출력할래?: \"))  # 사용자로부터 \"구구단에서 몇 단을 출력할래?: \"라는 메시지를 출력하고, 입력받은 값을 정수로 변환하여 dan 변수에 저장합니다.\n",
        "\n",
        "i = 1  # 초기값으로 i를 1로 설정합니다.\n",
        "\n",
        "while i <= 9:  # i값이 9보다 작거나 같을 때까지 반복합니다.\n",
        "    print(dan, \"x\", i, \"=\", dan * i)  # dan 변수와 i를 곱한 값을 출력합니다.\n",
        "    i += 1  # i값을 1씩 증가시킵니다.\n",
        "위의 코드는 while 루프를 사용하여 1부터 9까지의 숫자에 대해 반복하면서 구구단을 출력합니다."
      ],
      "metadata": {
        "colab": {
          "base_uri": "https://localhost:8080/"
        },
        "id": "83YXLz0Vf7ty",
        "outputId": "38df9739-c9a9-4ced-9ad4-c2015f8b9613"
      },
      "execution_count": null,
      "outputs": [
        {
          "output_type": "stream",
          "name": "stdout",
          "text": [
            "구구단에서 몇단을 출력할래?: 4\n",
            "4 x 1 = 4\n",
            "4 x 2 = 8\n",
            "4 x 3 = 12\n",
            "4 x 4 = 16\n",
            "4 x 5 = 20\n",
            "4 x 6 = 24\n",
            "4 x 7 = 28\n",
            "4 x 8 = 32\n",
            "4 x 9 = 36\n"
          ]
        }
      ]
    },
    {
      "cell_type": "markdown",
      "source": [
        "위의 코드는 while 루프를 사용하여 1부터 9까지의 숫자에 대해 반복하면서 구구단을 출력합니다.\n",
        "\n",
        "dan = int(input(\"구구단에서 몇 단을 출력할래?: \")) : 사용자로부터 \"구구단에서 몇 단을 출력할래?: \"라는 메시지를 출력하고, 입력받은 값을 정수로 변환하여 dan 변수에 저장합니다.\n",
        "i = 1 : 초기값으로 i를 1로 설정합니다.\n",
        "while i <= 9: : i값이 9보다 작거나 같을 때까지 반복합니다.\n",
        "print(dan, \"x\", i, \"=\", dan * i) : dan 변수와 i를 곱한 값을 출력합니다. 출력 결과로는 구구단의 각 계산식이 출력됩니다.\n",
        "i += 1 : i값을 1씩 증가시킵니다.\n",
        "따라서, 주어진 코드는 사용자로부터 입력받은 숫자에 대한 구구단을 출력하는 코드입니다. 출력 결과로는 입력한 숫자에 대한 구구단이 출력됩니다."
      ],
      "metadata": {
        "id": "3-xG0ccHYbNa"
      }
    }
  ]
}