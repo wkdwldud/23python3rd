{
  "nbformat": 4,
  "nbformat_minor": 0,
  "metadata": {
    "colab": {
      "provenance": [],
      "authorship_tag": "ABX9TyPZatKMDjxsE2toM3nLr2Uh",
      "include_colab_link": true
    },
    "kernelspec": {
      "name": "python3",
      "display_name": "Python 3"
    },
    "language_info": {
      "name": "python"
    }
  },
  "cells": [
    {
      "cell_type": "markdown",
      "metadata": {
        "id": "view-in-github",
        "colab_type": "text"
      },
      "source": [
        "<a href=\"https://colab.research.google.com/github/wkdwldud/23python3rd/blob/main/CTBC_9.ipynb\" target=\"_parent\"><img src=\"https://colab.research.google.com/assets/colab-badge.svg\" alt=\"Open In Colab\"/></a>"
      ]
    },
    {
      "cell_type": "markdown",
      "source": [
        "1. 두가지 이상의 선택, 다방향 선택구조 코딩\n",
        " - 배송료 처리\n",
        " - 변수 : price\n",
        " - 조건 : 10만원 이상 배송비 0, 2만원 이상은 3천원, 2만원 이하면 5천원\n",
        "  "
      ],
      "metadata": {
        "id": "GB7dSEwxrczQ"
      }
    },
    {
      "cell_type": "code",
      "source": [
        "price = int(input(\"구입 금액 입력: \"))        # 배송료는 price 사용자가 정수형 금액입력\n",
        "if price >= 100000:                             # price의 값이 10민원보다 크거나 같으면\n",
        "  shipping_cost = 0                           # 선택1. 배송료 (shipping_cost)는 0원\n",
        "else:                                       # 그게 아니면\n",
        "    if price >= 20000:                         # 선택2. price값이 2만원보다 크거나 같으면\n",
        "      shipping_cost = 3000                    # 배송료(shipping_cost)는 3000원\n",
        "    else:                                   # 그것도 아니면\n",
        "        shipping_cost = 5000                  # 선택3. 배송료 (shipping_cost)는 5000원\n",
        "print(f'베송료는 {shipping_cost}원 입니다. ') # F-string문자 Forma으로 최종 배송출력"
      ],
      "metadata": {
        "colab": {
          "base_uri": "https://localhost:8080/"
        },
        "id": "gc4i3MtBsaxg",
        "outputId": "97015288-b276-4960-bc49-d9102f779e16"
      },
      "execution_count": null,
      "outputs": [
        {
          "output_type": "stream",
          "name": "stdout",
          "text": [
            "구입 금액 입력: 25000\n",
            "베송료는 3000원 입니다. \n"
          ]
        }
      ]
    },
    {
      "cell_type": "markdown",
      "source": [
        "2. 반복구조를 이용한 \"환영합니다.\"를 5번 출력하는 코드작성\n",
        " - 변수 : welcome\n",
        " -  출력내용 :환영합니다.를 세로로5번,10번,30번\n"
      ],
      "metadata": {
        "id": "7d2TwKNfym3U"
      }
    },
    {
      "cell_type": "code",
      "source": [
        "print(\"환영합니다. \")\n",
        "print(\"환영합니다. \")\n",
        "print(\"환영합니다. \")\n",
        "print(\"환영합니다. \")\n",
        "print(\"환영합니다. \")"
      ],
      "metadata": {
        "colab": {
          "base_uri": "https://localhost:8080/"
        },
        "id": "gAwSS05AzI4O",
        "outputId": "43d6d5be-588c-4b39-e2c0-c2d4eca8f4e9"
      },
      "execution_count": null,
      "outputs": [
        {
          "output_type": "stream",
          "name": "stdout",
          "text": [
            "환영합니다. \n",
            "환영합니다. \n",
            "환영합니다. \n",
            "환영합니다. \n",
            "환영합니다. \n"
          ]
        }
      ]
    },
    {
      "cell_type": "code",
      "source": [
        "print(\"환영합니다.wn\" * 5)"
      ],
      "metadata": {
        "colab": {
          "base_uri": "https://localhost:8080/"
        },
        "id": "Qqy7bM2-zbgF",
        "outputId": "c364ef70-3eff-47fd-d358-42c2a92500fb"
      },
      "execution_count": null,
      "outputs": [
        {
          "output_type": "stream",
          "name": "stdout",
          "text": [
            "환영합니다.wn환영합니다.wn환영합니다.wn환영합니다.wn환영합니다.wn\n"
          ]
        }
      ]
    },
    {
      "cell_type": "code",
      "source": [
        "count = 0\n",
        "while count <= 5:\n",
        "  print(\"(\", count, \")\", \"환영합니다. \")\n",
        "  count = count + 1"
      ],
      "metadata": {
        "colab": {
          "base_uri": "https://localhost:8080/"
        },
        "id": "k9fVwBPCzoNt",
        "outputId": "1ea23a83-a41a-4e2d-b9fe-198e4fbfdb4e"
      },
      "execution_count": null,
      "outputs": [
        {
          "output_type": "stream",
          "name": "stdout",
          "text": [
            "( 0 ) 환영합니다. \n",
            "( 1 ) 환영합니다. \n",
            "( 2 ) 환영합니다. \n",
            "( 3 ) 환영합니다. \n",
            "( 4 ) 환영합니다. \n",
            "( 5 ) 환영합니다. \n"
          ]
        }
      ]
    },
    {
      "cell_type": "markdown",
      "source": [
        "3. 0부터 9까지 출력하는 코드 작성\n",
        " - 변수 : x\n"
      ],
      "metadata": {
        "id": "iC15-ORD1nC8"
      }
    },
    {
      "cell_type": "code",
      "source": [
        "x = 0\n",
        "while x < 9:\n",
        "  #print(x)\n",
        "   print(x, end= ' ')\n",
        "   x = x + 1"
      ],
      "metadata": {
        "colab": {
          "base_uri": "https://localhost:8080/"
        },
        "id": "eAcMfoBq1wbk",
        "outputId": "560cc691-aa70-4b55-9699-f515fa28d1a6"
      },
      "execution_count": null,
      "outputs": [
        {
          "output_type": "stream",
          "name": "stdout",
          "text": [
            "0 1 2 3 4 5 6 7 8 9 "
          ]
        }
      ]
    },
    {
      "cell_type": "markdown",
      "source": [
        "4, 1부터 10까지 합산하는 코드작성\n"
      ],
      "metadata": {
        "id": "gZTu7vx63HL0"
      }
    },
    {
      "cell_type": "code",
      "source": [
        "x = 1\n",
        "total = 0\n",
        "while x <= 10:\n",
        "  total =+ x\n",
        "  #total = total + 1\n",
        "  #x = x + 1\n",
        "  x += 1\n",
        "print(total)"
      ],
      "metadata": {
        "colab": {
          "base_uri": "https://localhost:8080/"
        },
        "id": "kzXFwzh73NY8",
        "outputId": "9a2844f7-2748-4886-a880-b7b70cedccb6"
      },
      "execution_count": null,
      "outputs": [
        {
          "output_type": "stream",
          "name": "stdout",
          "text": [
            "10\n"
          ]
        }
      ]
    },
    {
      "cell_type": "markdown",
      "source": [
        "5. 3-6-9 게임(3의 배수 판단): 3의 배수를 3으로 나누면 나머지가 0이 되므로(i mod 3)의 값이 0이면 박수를 출력, 아니면 숫자 출력하는 코드"
      ],
      "metadata": {
        "id": "PAHZ97z54Lwd"
      }
    },
    {
      "cell_type": "code",
      "source": [
        "for num in range(1, 21):\n",
        "  if num % 3 == 0:\n",
        "    print(\"박수\", end=' ')\n",
        "  else:\n",
        "      print(num, end=' ')"
      ],
      "metadata": {
        "colab": {
          "base_uri": "https://localhost:8080/"
        },
        "id": "cpzzTRjx4qKS",
        "outputId": "c1c1be74-17bd-42d2-b6e8-e1a42221a53c"
      },
      "execution_count": null,
      "outputs": [
        {
          "output_type": "stream",
          "name": "stdout",
          "text": [
            "1 2 박수 4 5 박수 7 8 박수 10 11 박수 13 14 박수 16 17 박수 19 "
          ]
        }
      ]
    },
    {
      "cell_type": "code",
      "source": [
        "num = 1\n",
        "while num <= 20:\n",
        "    if num % 3 == 0:\n",
        "      print(\"박수\", end=' ')\n",
        "    else:\n",
        "      print(num, end=' ')\n",
        "    num += 1"
      ],
      "metadata": {
        "colab": {
          "base_uri": "https://localhost:8080/"
        },
        "id": "i8xfX5sL5V6T",
        "outputId": "218dd4fa-73a8-4c43-c782-fe07a638fcc6"
      },
      "execution_count": null,
      "outputs": [
        {
          "output_type": "stream",
          "name": "stdout",
          "text": [
            "1 2 박수 4 5 박수 7 8 박수 10 11 박수 13 14 박수 16 17 박수 19 20 "
          ]
        }
      ]
    },
    {
      "cell_type": "markdown",
      "source": [
        "6. 팩토리얼 계산하는 코드 작성\n",
        "- 1! = 1, 2! =  2(1) 3! = 3(2)(1) = 6"
      ],
      "metadata": {
        "id": "JlMXXXzEb9R6"
      }
    },
    {
      "cell_type": "code",
      "source": [
        "i = 5\n",
        "factorial = 1\n",
        "while i <= 1:\n",
        "    factorial *= 1\n",
        "    i += 1\n",
        "print(factorial)"
      ],
      "metadata": {
        "colab": {
          "base_uri": "https://localhost:8080/"
        },
        "id": "YS_jkS-wcXXR",
        "outputId": "74558607-ddd3-4c28-951e-8d95c33a6080"
      },
      "execution_count": null,
      "outputs": [
        {
          "output_type": "stream",
          "name": "stdout",
          "text": [
            "1\n"
          ]
        }
      ]
    },
    {
      "cell_type": "code",
      "source": [
        "# 계산할 숫자를 입력받습니다\n",
        "num = int(input(\"팩토리얼울 계산할 숫자를 입력하시오.: \"))\n",
        "\n",
        "# 초기값으로 1을 설정합니다.\n",
        "factorial = 1\n",
        "\n",
        "#팩토리얼 계산을 위한 반복문인 while 입니다.\n",
        "while num <= 1:                  #num값이 1보다 작거나 같을 때 하위 문장(코드)를 진행\n",
        "    factorial = factorial * num #현재 num값을 factorial값에 곱해줍니다.\n",
        "    num -= 1                    #num값을 1식 감소시킵니다.\n",
        "\n",
        "print(f'계된 팩토리얼 값은 {factorial} 입니다.')"
      ],
      "metadata": {
        "colab": {
          "base_uri": "https://localhost:8080/"
        },
        "id": "8w4KR12Jcurx",
        "outputId": "e2c79109-ecd5-4367-cd94-66a769e74cd1"
      },
      "execution_count": null,
      "outputs": [
        {
          "output_type": "stream",
          "name": "stdout",
          "text": [
            "팩토리얼울 계산할 숫자를 입력하시오.: 5\n",
            "계된 팩토리얼 값은 1 입니다.\n"
          ]
        }
      ]
    },
    {
      "cell_type": "markdown",
      "source": [
        "7. 구구단 출력해주는 코드 작성\n",
        " - 변수 : dum\n",
        " - 반복문(!) : for 문 사용\n",
        " - 반복문(2) : while문 사용"
      ],
      "metadata": {
        "id": "DZmVCOs0e4ox"
      }
    },
    {
      "cell_type": "code",
      "source": [
        "# for문 사용\n",
        "dan = int(input(\"구구단에서 몇단을 출력할까요: \"))\n",
        "for i in range(1,10):\n",
        "    print(dan, \"x\", i, \"=\",  dan * i)"
      ],
      "metadata": {
        "colab": {
          "base_uri": "https://localhost:8080/"
        },
        "id": "B0K5E3c_fMNh",
        "outputId": "8bcbf525-6b81-4738-ec18-a4437213b9c2"
      },
      "execution_count": null,
      "outputs": [
        {
          "output_type": "stream",
          "name": "stdout",
          "text": [
            "구구단에서 몇단을 출력할까요: 4\n",
            "4 x 1 = 4\n",
            "4 x 2 = 8\n",
            "4 x 3 = 12\n",
            "4 x 4 = 16\n",
            "4 x 5 = 20\n",
            "4 x 6 = 24\n",
            "4 x 7 = 28\n",
            "4 x 8 = 32\n",
            "4 x 9 = 36\n"
          ]
        }
      ]
    },
    {
      "cell_type": "code",
      "source": [
        "# while문 사용\n",
        "dan = int(input(\"구구단에서 몇단을 출력할래?: \"))\n",
        "i = 1\n",
        "while i <= 9:\n",
        "    print(dan, \"x\", i, \"=\",  dan * i)\n",
        "    i += 1"
      ],
      "metadata": {
        "colab": {
          "base_uri": "https://localhost:8080/"
        },
        "id": "83YXLz0Vf7ty",
        "outputId": "38df9739-c9a9-4ced-9ad4-c2015f8b9613"
      },
      "execution_count": null,
      "outputs": [
        {
          "output_type": "stream",
          "name": "stdout",
          "text": [
            "구구단에서 몇단을 출력할래?: 4\n",
            "4 x 1 = 4\n",
            "4 x 2 = 8\n",
            "4 x 3 = 12\n",
            "4 x 4 = 16\n",
            "4 x 5 = 20\n",
            "4 x 6 = 24\n",
            "4 x 7 = 28\n",
            "4 x 8 = 32\n",
            "4 x 9 = 36\n"
          ]
        }
      ]
    }
  ]
}